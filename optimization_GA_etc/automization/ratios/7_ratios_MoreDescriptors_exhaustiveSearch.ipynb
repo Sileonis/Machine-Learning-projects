{
 "cells": [
  {
   "cell_type": "code",
   "execution_count": 6,
   "metadata": {},
   "outputs": [],
   "source": [
    "import pandas as pd\n",
    "import seaborn as sns\n",
    "import numpy as np\n",
    "from scipy.optimize import minimize\n",
    "from scipy.optimize import minimize_scalar\n",
    "%matplotlib inline\n",
    "import matplotlib.pyplot as plt\n",
    "from rtree import index\n",
    "\n",
    "#import models\n",
    "from sklearn.linear_model import LinearRegression\n",
    "from sklearn.neural_network import MLPRegressor\n",
    "from sklearn.tree import DecisionTreeRegressor\n",
    "from sklearn import linear_model\n",
    "from sklearn.ensemble import RandomForestRegressor\n",
    "from sklearn.ensemble import GradientBoostingRegressor\n",
    "from xgboost import XGBRegressor\n",
    "#from xgboost import XGBRegressor\n",
    "\n",
    "from sklearn import model_selection\n",
    "from sklearn.metrics import explained_variance_score\n",
    "# from sklearn.metrics import mean_absolute_percentage_error\n",
    "from sklearn.metrics import mean_squared_error\n",
    "from tabulate import _table_formats, tabulate\n",
    "from sklearn.model_selection import RepeatedKFold\n",
    "from sklearn.model_selection import train_test_split\n",
    "from sklearn.model_selection import KFold\n",
    "import pygad\n",
    "import time\n",
    "import datetime\n",
    "\n",
    "from sklearn import metrics"
   ]
  },
  {
   "cell_type": "code",
   "execution_count": 7,
   "metadata": {},
   "outputs": [],
   "source": [
    "datas = './MyData.xlsx'\n",
    "#datas = '/Users/pkrok/OneDrive/Python/Giannakopoulos/MyData.xlsx'\n",
    "# datas = '/Users/panagiotiskrokidas/OneDrive/Python/Giannakopoulos/MyData.xlsx'"
   ]
  },
  {
   "cell_type": "code",
   "execution_count": 8,
   "metadata": {},
   "outputs": [
    {
     "data": {
      "text/plain": [
       "68"
      ]
     },
     "execution_count": 8,
     "metadata": {},
     "output_type": "execute_result"
    }
   ],
   "source": [
    "pd.set_option(\"display.max_columns\", None)\n",
    "df=pd.read_excel(datas)\n",
    "df.head(2)\n",
    "df['logD'] = np.log10(df['diffusivity'])\n",
    "# df = df.dropna()\n",
    "# df[df.gas == 'propylene']['logD'].max()\n",
    "df[df.gas == 'ethylene']['logD'].count()"
   ]
  },
  {
   "cell_type": "code",
   "execution_count": null,
   "metadata": {},
   "outputs": [],
   "source": []
  },
  {
   "cell_type": "markdown",
   "metadata": {},
   "source": [
    "# Keep only the columns I need"
   ]
  },
  {
   "cell_type": "code",
   "execution_count": 9,
   "metadata": {},
   "outputs": [],
   "source": [
    "# df2=df[[ 'aperture', 'size - van der Waals (Å)','mass', 'ascentricF', 'logD', 'size - kinetic diameter (Å)', 'gas', 'apertureAtom_e', 'ionicRad']]\n",
    "df2=df[[ 'type', 'gas', 'MetalNum', 'aperture', 'size - van der Waals (Å)','mass', 'ascentricF', 'logD', 'size - kinetic diameter (Å)', 'ionicRad', \n",
    "       'Μ-N_lff', 'Μ-N_kFF', 'MetalCharge',\n",
    "       'apertureAtom_σ', 'apertureAtom_e', 'linker_length1', 'linker_length2',\n",
    "       'linker_length3', 'linker_mass1', 'linker_mass2', 'linker_mass3',\n",
    "       'func1_length', 'func2_length', 'func3_length', 'func1_mass',  \n",
    "       'func2_mass', 'func3_mass', 'func1_charge', 'func2_charge',\n",
    "       'func3_charge',]]"
   ]
  },
  {
   "cell_type": "code",
   "execution_count": null,
   "metadata": {},
   "outputs": [],
   "source": []
  },
  {
   "cell_type": "code",
   "execution_count": 10,
   "metadata": {},
   "outputs": [],
   "source": [
    "df2=df2.rename(columns={'size - van der Waals (Å)':'diameter', 'size - kinetic diameter (Å)':'kdiameter', 'apertureAtom_σ':'σ', 'apertureAtom_e':'e' })"
   ]
  },
  {
   "cell_type": "markdown",
   "metadata": {},
   "source": [
    "\n"
   ]
  },
  {
   "cell_type": "code",
   "execution_count": 11,
   "metadata": {},
   "outputs": [],
   "source": [
    "df2 = df2.dropna()\n",
    "df2=df2.reset_index(drop=True)\n",
    "# df2\n",
    "# df2[(df2['logD'] >= -13) & (dfco2['logD'] <= -11.5)]"
   ]
  },
  {
   "cell_type": "code",
   "execution_count": null,
   "metadata": {},
   "outputs": [],
   "source": [
    "# df2[(df2['type'] == 'dFm_Be')]"
   ]
  },
  {
   "cell_type": "code",
   "execution_count": null,
   "metadata": {},
   "outputs": [],
   "source": []
  },
  {
   "cell_type": "markdown",
   "metadata": {},
   "source": [
    "## CO2 dataframe"
   ]
  },
  {
   "cell_type": "code",
   "execution_count": 12,
   "metadata": {},
   "outputs": [],
   "source": [
    "dfco2=df2[(df2['diameter'] == 3.24)].reset_index()\n",
    "dfco2=dfco2.drop(columns=['index'])\n",
    "# dfco2"
   ]
  },
  {
   "cell_type": "code",
   "execution_count": 13,
   "metadata": {},
   "outputs": [],
   "source": [
    "dfch4=df2[(df2['diameter'] == 3.25)].reset_index()\n",
    "dfch4=dfch4.drop(columns=['index'])\n",
    "# dfch4"
   ]
  },
  {
   "cell_type": "code",
   "execution_count": 14,
   "metadata": {},
   "outputs": [
    {
     "data": {
      "text/html": [
       "<div>\n",
       "<style scoped>\n",
       "    .dataframe tbody tr th:only-of-type {\n",
       "        vertical-align: middle;\n",
       "    }\n",
       "\n",
       "    .dataframe tbody tr th {\n",
       "        vertical-align: top;\n",
       "    }\n",
       "\n",
       "    .dataframe thead th {\n",
       "        text-align: right;\n",
       "    }\n",
       "</style>\n",
       "<table border=\"1\" class=\"dataframe\">\n",
       "  <thead>\n",
       "    <tr style=\"text-align: right;\">\n",
       "      <th></th>\n",
       "      <th>type</th>\n",
       "      <th>gas</th>\n",
       "      <th>MetalNum</th>\n",
       "      <th>aperture</th>\n",
       "      <th>diameter</th>\n",
       "      <th>mass</th>\n",
       "      <th>ascentricF</th>\n",
       "      <th>logD</th>\n",
       "      <th>kdiameter</th>\n",
       "      <th>ionicRad</th>\n",
       "      <th>Μ-N_lff</th>\n",
       "      <th>Μ-N_kFF</th>\n",
       "      <th>MetalCharge</th>\n",
       "      <th>σ</th>\n",
       "      <th>e</th>\n",
       "      <th>linker_length1</th>\n",
       "      <th>linker_length2</th>\n",
       "      <th>linker_length3</th>\n",
       "      <th>linker_mass1</th>\n",
       "      <th>linker_mass2</th>\n",
       "      <th>linker_mass3</th>\n",
       "      <th>func1_length</th>\n",
       "      <th>func2_length</th>\n",
       "      <th>func3_length</th>\n",
       "      <th>func1_mass</th>\n",
       "      <th>func2_mass</th>\n",
       "      <th>func3_mass</th>\n",
       "      <th>func1_charge</th>\n",
       "      <th>func2_charge</th>\n",
       "      <th>func3_charge</th>\n",
       "    </tr>\n",
       "  </thead>\n",
       "  <tbody>\n",
       "    <tr>\n",
       "      <th>65</th>\n",
       "      <td>dFm_Be</td>\n",
       "      <td>CO2</td>\n",
       "      <td>4</td>\n",
       "      <td>3.023</td>\n",
       "      <td>3.24</td>\n",
       "      <td>44.01</td>\n",
       "      <td>0.225</td>\n",
       "      <td>-9.638272</td>\n",
       "      <td>3.3</td>\n",
       "      <td>41</td>\n",
       "      <td>1.759</td>\n",
       "      <td>48367.0</td>\n",
       "      <td>1.2861</td>\n",
       "      <td>0.285</td>\n",
       "      <td>0.255</td>\n",
       "      <td>4.86</td>\n",
       "      <td>4.86</td>\n",
       "      <td>4.86</td>\n",
       "      <td>101.98</td>\n",
       "      <td>101.98</td>\n",
       "      <td>101.98</td>\n",
       "      <td>3.78</td>\n",
       "      <td>3.78</td>\n",
       "      <td>3.78</td>\n",
       "      <td>15.0</td>\n",
       "      <td>15.0</td>\n",
       "      <td>15.0</td>\n",
       "      <td>-0.1873</td>\n",
       "      <td>-0.1873</td>\n",
       "      <td>-0.1873</td>\n",
       "    </tr>\n",
       "  </tbody>\n",
       "</table>\n",
       "</div>"
      ],
      "text/plain": [
       "      type  gas  MetalNum  aperture  diameter   mass  ascentricF      logD  \\\n",
       "65  dFm_Be  CO2         4     3.023      3.24  44.01       0.225 -9.638272   \n",
       "\n",
       "    kdiameter  ionicRad  Μ-N_lff  Μ-N_kFF  MetalCharge      σ      e  \\\n",
       "65        3.3        41    1.759  48367.0       1.2861  0.285  0.255   \n",
       "\n",
       "    linker_length1  linker_length2  linker_length3  linker_mass1  \\\n",
       "65            4.86            4.86            4.86        101.98   \n",
       "\n",
       "    linker_mass2  linker_mass3  func1_length  func2_length  func3_length  \\\n",
       "65        101.98        101.98          3.78          3.78          3.78   \n",
       "\n",
       "    func1_mass  func2_mass  func3_mass  func1_charge  func2_charge  \\\n",
       "65        15.0        15.0        15.0       -0.1873       -0.1873   \n",
       "\n",
       "    func3_charge  \n",
       "65       -0.1873  "
      ]
     },
     "execution_count": 14,
     "metadata": {},
     "output_type": "execute_result"
    }
   ],
   "source": [
    "dfco2[(dfco2['type'] == 'dFm_Be')]"
   ]
  },
  {
   "cell_type": "code",
   "execution_count": 15,
   "metadata": {},
   "outputs": [
    {
     "data": {
      "text/html": [
       "<div>\n",
       "<style scoped>\n",
       "    .dataframe tbody tr th:only-of-type {\n",
       "        vertical-align: middle;\n",
       "    }\n",
       "\n",
       "    .dataframe tbody tr th {\n",
       "        vertical-align: top;\n",
       "    }\n",
       "\n",
       "    .dataframe thead th {\n",
       "        text-align: right;\n",
       "    }\n",
       "</style>\n",
       "<table border=\"1\" class=\"dataframe\">\n",
       "  <thead>\n",
       "    <tr style=\"text-align: right;\">\n",
       "      <th></th>\n",
       "      <th>type</th>\n",
       "      <th>gas</th>\n",
       "      <th>MetalNum</th>\n",
       "      <th>aperture</th>\n",
       "      <th>diameter</th>\n",
       "      <th>mass</th>\n",
       "      <th>ascentricF</th>\n",
       "      <th>logD</th>\n",
       "      <th>kdiameter</th>\n",
       "      <th>ionicRad</th>\n",
       "      <th>Μ-N_lff</th>\n",
       "      <th>Μ-N_kFF</th>\n",
       "      <th>MetalCharge</th>\n",
       "      <th>σ</th>\n",
       "      <th>e</th>\n",
       "      <th>linker_length1</th>\n",
       "      <th>linker_length2</th>\n",
       "      <th>linker_length3</th>\n",
       "      <th>linker_mass1</th>\n",
       "      <th>linker_mass2</th>\n",
       "      <th>linker_mass3</th>\n",
       "      <th>func1_length</th>\n",
       "      <th>func2_length</th>\n",
       "      <th>func3_length</th>\n",
       "      <th>func1_mass</th>\n",
       "      <th>func2_mass</th>\n",
       "      <th>func3_mass</th>\n",
       "      <th>func1_charge</th>\n",
       "      <th>func2_charge</th>\n",
       "      <th>func3_charge</th>\n",
       "    </tr>\n",
       "  </thead>\n",
       "  <tbody>\n",
       "    <tr>\n",
       "      <th>65</th>\n",
       "      <td>dFm_Be</td>\n",
       "      <td>CH4</td>\n",
       "      <td>4</td>\n",
       "      <td>3.023</td>\n",
       "      <td>3.25</td>\n",
       "      <td>16.04</td>\n",
       "      <td>0.011</td>\n",
       "      <td>-14.0</td>\n",
       "      <td>3.8</td>\n",
       "      <td>41</td>\n",
       "      <td>1.759</td>\n",
       "      <td>48367.0</td>\n",
       "      <td>1.2861</td>\n",
       "      <td>0.285</td>\n",
       "      <td>0.255</td>\n",
       "      <td>4.86</td>\n",
       "      <td>4.86</td>\n",
       "      <td>4.86</td>\n",
       "      <td>101.98</td>\n",
       "      <td>101.98</td>\n",
       "      <td>101.98</td>\n",
       "      <td>3.78</td>\n",
       "      <td>3.78</td>\n",
       "      <td>3.78</td>\n",
       "      <td>15.0</td>\n",
       "      <td>15.0</td>\n",
       "      <td>15.0</td>\n",
       "      <td>-0.1873</td>\n",
       "      <td>-0.1873</td>\n",
       "      <td>-0.1873</td>\n",
       "    </tr>\n",
       "  </tbody>\n",
       "</table>\n",
       "</div>"
      ],
      "text/plain": [
       "      type  gas  MetalNum  aperture  diameter   mass  ascentricF  logD  \\\n",
       "65  dFm_Be  CH4         4     3.023      3.25  16.04       0.011 -14.0   \n",
       "\n",
       "    kdiameter  ionicRad  Μ-N_lff  Μ-N_kFF  MetalCharge      σ      e  \\\n",
       "65        3.8        41    1.759  48367.0       1.2861  0.285  0.255   \n",
       "\n",
       "    linker_length1  linker_length2  linker_length3  linker_mass1  \\\n",
       "65            4.86            4.86            4.86        101.98   \n",
       "\n",
       "    linker_mass2  linker_mass3  func1_length  func2_length  func3_length  \\\n",
       "65        101.98        101.98          3.78          3.78          3.78   \n",
       "\n",
       "    func1_mass  func2_mass  func3_mass  func1_charge  func2_charge  \\\n",
       "65        15.0        15.0        15.0       -0.1873       -0.1873   \n",
       "\n",
       "    func3_charge  \n",
       "65       -0.1873  "
      ]
     },
     "execution_count": 15,
     "metadata": {},
     "output_type": "execute_result"
    }
   ],
   "source": [
    "dfch4[(dfch4['type'] == 'dFm_Be')]"
   ]
  },
  {
   "cell_type": "code",
   "execution_count": 16,
   "metadata": {},
   "outputs": [],
   "source": [
    "dfco2 = dfco2.drop([dfco2.index[65]])\n",
    "dfch4 = dfch4.drop([dfch4.index[65]])"
   ]
  },
  {
   "cell_type": "code",
   "execution_count": 17,
   "metadata": {},
   "outputs": [],
   "source": [
    "dfco2=dfco2.reset_index()\n",
    "dfco2=dfco2.drop(columns=['index'])\n",
    "\n",
    "dfch4=dfch4.reset_index()\n",
    "dfch4=dfch4.drop(columns=['index'])"
   ]
  },
  {
   "cell_type": "code",
   "execution_count": null,
   "metadata": {},
   "outputs": [],
   "source": [
    "# dfch4"
   ]
  },
  {
   "cell_type": "markdown",
   "metadata": {},
   "source": [
    "## ML models"
   ]
  },
  {
   "cell_type": "code",
   "execution_count": 18,
   "metadata": {},
   "outputs": [
    {
     "name": "stdout",
     "output_type": "stream",
     "text": [
      "LinearRegression()\n"
     ]
    }
   ],
   "source": [
    "regr = linear_model.LinearRegression()\n",
    "tree=DecisionTreeRegressor(max_depth=5,random_state=1)\n",
    "print(regr)"
   ]
  },
  {
   "cell_type": "markdown",
   "metadata": {},
   "source": [
    "# ga_instance.plot_genes()"
   ]
  },
  {
   "cell_type": "markdown",
   "metadata": {},
   "source": [
    "## Add more descriptors"
   ]
  },
  {
   "cell_type": "markdown",
   "metadata": {},
   "source": [
    "## Model with only metal, aperture_e, lengths of linker1&3 and functional1&3"
   ]
  },
  {
   "cell_type": "code",
   "execution_count": 19,
   "metadata": {},
   "outputs": [],
   "source": [
    "Genes = np.asanyarray(dfco2[[\n",
    "     'MetalNum',  \n",
    "     'linker_length1', 'linker_length2', 'linker_length3',\n",
    "    'func1_length', 'func2_length', 'func3_length',\n",
    "                                 ]])\n",
    "\n",
    "x_co2 = np.asanyarray(dfco2[[\n",
    "    'MetalNum',  \n",
    "    'linker_length1', 'linker_length2', 'linker_length3',\n",
    "    'func1_length', 'func2_length', 'func3_length',\n",
    "    'ionicRad',\n",
    "    'linker_mass1', 'linker_mass2', 'linker_mass3',\n",
    "    'σ', 'e', \n",
    "    'func1_mass', 'func2_mass', 'func3_mass'\n",
    "                            ]])\n",
    "\n",
    "\n",
    "y_co2 = np.array(dfco2[['logD']])\n",
    "\n",
    "x_ch4 = np.asanyarray(dfch4[[\n",
    "    'MetalNum',  \n",
    "    'linker_length1', 'linker_length2', 'linker_length3',\n",
    "    'func1_length', 'func2_length', 'func3_length',\n",
    "    'ionicRad',\n",
    "    'linker_mass1', 'linker_mass2', 'linker_mass3',\n",
    "    'σ', 'e', \n",
    "    'func1_mass', 'func2_mass', 'func3_mass'\n",
    "                           ]])\n",
    "\n",
    "\n",
    "y_ch4 = np.array(dfch4[['logD']])"
   ]
  },
  {
   "cell_type": "markdown",
   "metadata": {},
   "source": [
    "# Libraries"
   ]
  },
  {
   "cell_type": "code",
   "execution_count": 20,
   "metadata": {},
   "outputs": [],
   "source": [
    "linker_length1 = {3.66:{'linker_mass1':83, 'σ':0.325, 'e':0.7112},\n",
    "                 4.438:{'linker_mass1':81, 'σ':0.25, 'e':0.0627},\n",
    "                  4.86:{'linker_mass1':101.98, 'σ':0.285, 'e':0.255},\n",
    "                   5.7:{'linker_mass1':134.906, 'σ':0.34, 'e':1.2552},\n",
    "                  6.01:{'linker_mass1':223.8, 'σ':0.4, 'e':0.0627},\n",
    "                  6.41:{'linker_mass1':317.8, 'σ':0.367, 'e':1.8731}\n",
    "                  }\n",
    "\n",
    "linker_length2 = {3.66:{'linker_mass2':83, 'σ':0.325, 'e':0.7112},\n",
    "                 4.438:{'linker_mass2':81, 'σ':0.25, 'e':0.0627},\n",
    "                  4.86:{'linker_mass2':101.98, 'σ':0.285, 'e':0.255},\n",
    "                   5.7:{'linker_mass2':134.906, 'σ':0.34, 'e':1.2552},\n",
    "                  6.01:{'linker_mass2':223.8, 'σ':0.4, 'e':0.0627},\n",
    "                  6.41:{'linker_mass2':317.8, 'σ':0.367, 'e':1.8731}\n",
    "                  }\n",
    "linker_length3 = {3.66:{'linker_mass3':83, 'σ':0.325, 'e':0.7112},\n",
    "                 4.438:{'linker_mass3':81, 'σ':0.25, 'e':0.0627},\n",
    "                  4.86:{'linker_mass3':101.98, 'σ':0.285, 'e':0.255},\n",
    "                   5.7:{'linker_mass3':134.906, 'σ':0.34, 'e':1.2552},\n",
    "                 5.996:{'linker_mass3':117., 'σ':0.25, 'e':0.0627},\n",
    "                  6.01:{'linker_mass3':223.8, 'σ':0.4, 'e':0.0627},\n",
    "                  6.41:{'linker_mass3':317.8, 'σ':0.367, 'e':1.8731}\n",
    "                  }\n",
    "\n",
    "func1_length = {2.278:{'func1_mass':1.},\n",
    "                 3.54:{'func1_mass':35.45},\n",
    "                  3.78:{'func1_mass':15.},\n",
    "                   3.85:{'func1_mass':79.9},\n",
    "                  3.927:{'func1_mass':16.},\n",
    "                  4.093:{'func1_mass':31.}\n",
    "                  }\n",
    "\n",
    "func2_length = {2.278:{'func2_mass':1.},\n",
    "                 3.54:{'func2_mass':35.45},\n",
    "                  3.78:{'func2_mass':15.},\n",
    "                   3.85:{'func2_mass':79.9},\n",
    "                  3.927:{'func2_mass':16.},\n",
    "                  4.093:{'func2_mass':31.}\n",
    "                  }\n",
    "\n",
    "func3_length = {2.278:{'func3_mass':1.},\n",
    "                    2.7:{'func3_mass':18.99},\n",
    "                  3.54:{'func3_mass':35.45},\n",
    "                  3.78:{'func3_mass':15.},\n",
    "                   3.85:{'func3_mass':79.9},\n",
    "                  3.927:{'func3_mass':16.},\n",
    "                  4.093:{'func3_mass':31.},\n",
    "                   4.25:{'func3_mass':127.},\n",
    "                  }\n",
    "MetalNum = {4:{'ionicRad':41},\n",
    "           29:{'ionicRad':71},\n",
    "           12:{'ionicRad':71},\n",
    "           27:{'ionicRad':72},\n",
    "           30:{'ionicRad':74},\n",
    "           25:{'ionicRad':80},\n",
    "           48:{'ionicRad':92}}"
   ]
  },
  {
   "cell_type": "code",
   "execution_count": 21,
   "metadata": {},
   "outputs": [
    {
     "name": "stdout",
     "output_type": "stream",
     "text": [
      "[-9.352327]\n",
      "[-11.364791]\n"
     ]
    }
   ],
   "source": [
    "XGBR1 = XGBRegressor(n_estimators=200, max_depth=5, eta=0.2, subsample=0.8, colsample_bytree=0.8)\n",
    "XGBR2 = XGBRegressor(n_estimators=200, max_depth=5, eta=0.2, subsample=0.8, colsample_bytree=0.8)\n",
    "# XRegr = XGBR.fit(x_train, y_train)\n",
    "co2 = XGBR1.fit(x_co2, y_co2)\n",
    "ch4 = XGBR2.fit(x_ch4, y_ch4)\n",
    "\n",
    "# predictionch4=ch4.predict([[ 4.0, 4.86, 4.86, 4.86, 3.78, 3.78, 3.78, 41, 101.98, 101.98, 101.98, 0.285, 0.255, 15, 15, 15 ]])\n",
    "# predictionco2=co2.predict([[ 4.0, 4.86, 4.86, 4.86, 3.78, 3.78, 3.78, 41, 101.98, 101.98, 101.98, 0.285, 0.255, 15, 15, 15 ]])\n",
    "\n",
    "predictionch4=ch4.predict([[ 27, 4.438, 4.438, 4.438, 3.78, 3.78, 3.78, 72, 81, 81, 81, 0.25, 0.0628, 15, 15, 15 ]])\n",
    "predictionco2=co2.predict([[ 27, 4.438, 4.438, 4.438, 3.78, 3.78, 3.78, 72, 81, 81, 81, 0.25, 0.0628, 15, 15, 15 ]])\n",
    "\n",
    "print(predictionco2)\n",
    "print(predictionch4)"
   ]
  },
  {
   "cell_type": "markdown",
   "metadata": {},
   "source": [
    "## Set up my GA"
   ]
  },
  {
   "cell_type": "code",
   "execution_count": 22,
   "metadata": {},
   "outputs": [],
   "source": [
    "def fitness(solution, solution_idx):\n",
    "    solution2=np.array([\n",
    "                  MetalNum[solution[0]]['ionicRad'],\n",
    "                  linker_length1[solution[1]]['linker_mass1'],\n",
    "                  linker_length2[solution[2]]['linker_mass2'],\n",
    "                  linker_length3[solution[3]]['linker_mass3'],\n",
    "                  linker_length1[solution[1]]['σ'],\n",
    "                  linker_length1[solution[1]]['e'],\n",
    "                  func1_length[solution[4]]['func1_mass'],\n",
    "                  func2_length[solution[5]]['func2_mass'],\n",
    "                  func3_length[solution[6]]['func3_mass']])\n",
    "    \n",
    "    solution3=np.concatenate((solution,solution2), axis=0, out=None, dtype=None, casting=\"same_kind\")\n",
    "    \n",
    "    floatResult1 = abs(co2.predict([solution3])[0] + 9.6)\n",
    "    floatResult2 = abs(co2.predict([solution3])[0] - ch4.predict([solution3])[0] - 4.4)\n",
    "    # return 1.0 - (abs(floatResult - 2) + 10e-10)\n",
    "    # return 1.0 - ((floatResult1*floatResult2) + 10e-10)\n",
    "    return 0.8 < 1.0 - ((floatResult1*floatResult2) + 10e-10) <1.3"
   ]
  },
  {
   "cell_type": "code",
   "execution_count": 34,
   "metadata": {},
   "outputs": [],
   "source": [
    "import itertools\n",
    "\n",
    "gene_space =  [\n",
    "              [4, 12, 25, 27, 29, 30 ],\n",
    "              [3.66, 4.438, 4.86, 5.7, 6.01, 6.41],\n",
    "              [3.66, 4.438, 4.86, 5.7, 6.01, 6.41],\n",
    "              [3.66, 4.438, 4.86, 5.7, 5.996, 6.01, 6.41],\n",
    "              [2.278, 3.54, 3.78, 3.85, 3.927, 4.093],\n",
    "              [2.278, 3.54, 3.78, 3.85, 3.927, 4.093],\n",
    "              [2.278, 2.7, 3.54, 3.78, 3.85, 3.927, 4.093, 4.25],\n",
    "              ]\n",
    "combinations = list(enumerate(itertools.product(*gene_space)))"
   ]
  },
  {
   "cell_type": "code",
   "execution_count": 62,
   "metadata": {},
   "outputs": [],
   "source": [
    "def exhaustiveSearchFitness(solution, solution_idx):\n",
    "    solution2=np.array([\n",
    "                  MetalNum[solution[0]]['ionicRad'],\n",
    "                  linker_length1[solution[1]]['linker_mass1'],\n",
    "                  linker_length2[solution[2]]['linker_mass2'],\n",
    "                  linker_length3[solution[3]]['linker_mass3'],\n",
    "                  linker_length1[solution[1]]['σ'],\n",
    "                  linker_length1[solution[1]]['e'],\n",
    "                  func1_length[solution[4]]['func1_mass'],\n",
    "                  func2_length[solution[5]]['func2_mass'],\n",
    "                  func3_length[solution[6]]['func3_mass']])\n",
    "    \n",
    "    solution3=np.concatenate((solution,solution2))\n",
    "    \n",
    "    floatResult1 = abs(co2.predict([solution3])[0] + 9.6)\n",
    "    floatResult2 = abs(co2.predict([solution3])[0] - ch4.predict([solution3])[0] - 4.4)\n",
    "    # return 1.0 - (abs(floatResult - 2) + 10e-10)\n",
    "    # return 1.0 - ((floatResult1*floatResult2) + 10e-10)\n",
    "    \n",
    "    #return 0.8 < 1.0 - ((floatResult1*floatResult2) + 10e-10) <1.3\n",
    "    \n",
    "    overallFitnessMeasure = 1.0 - ((floatResult1*floatResult2) + 10e-10)\n",
    "    return 1.0 - ((floatResult1*floatResult2) + 10e-10)\n",
    "\n"
   ]
  },
  {
   "cell_type": "code",
   "execution_count": 63,
   "metadata": {},
   "outputs": [
    {
     "name": "stdout",
     "output_type": "stream",
     "text": [
      "-1.3076219312363473\n"
     ]
    }
   ],
   "source": [
    "# print(len(combinations))\n",
    "# print(combinations[0])\n",
    "gene = np.array(combinations[1][1])\n",
    "gene_idx = np.array(combinations[1][0], dtype=int)\n",
    "print(exhaustiveSearchFitness(gene, gene_idx))\n"
   ]
  },
  {
   "cell_type": "code",
   "execution_count": 70,
   "metadata": {},
   "outputs": [
    {
     "name": "stdout",
     "output_type": "stream",
     "text": [
      "Current progress: 0.0000 (idx: 0)\n",
      "Estimated Remaining time: 14455.4892\n",
      "Found new best: 0.5380 (idx: 5)\n",
      "Found new best: 0.5380 (idx: 13)\n",
      "Found new best: 0.5381 (idx: 21)\n",
      "Found new best: 0.5980 (idx: 194)\n",
      "Found new best: 0.7770 (idx: 196)\n",
      "Found new best: 0.7770 (idx: 204)\n",
      "Found new best: 0.7814 (idx: 220)\n",
      "Found new best: 0.8637 (idx: 228)\n",
      "Found new best: 0.9594 (idx: 484)\n",
      "Found new best: 0.9594 (idx: 492)\n",
      "Found new best: 0.9666 (idx: 508)\n"
     ]
    },
    {
     "ename": "KeyboardInterrupt",
     "evalue": "",
     "output_type": "error",
     "traceback": [
      "\u001b[0;31m---------------------------------------------------------------------------\u001b[0m",
      "\u001b[0;31mKeyboardInterrupt\u001b[0m                         Traceback (most recent call last)",
      "\u001b[0;32m<ipython-input-70-514b168f0407>\u001b[0m in \u001b[0;36m<module>\u001b[0;34m\u001b[0m\n\u001b[1;32m     27\u001b[0m     \u001b[0mgene_idx\u001b[0m \u001b[0;34m=\u001b[0m \u001b[0mcombination\u001b[0m\u001b[0;34m[\u001b[0m\u001b[0;36m0\u001b[0m\u001b[0;34m]\u001b[0m\u001b[0;34m\u001b[0m\u001b[0;34m\u001b[0m\u001b[0m\n\u001b[1;32m     28\u001b[0m     \u001b[0;31m# Call the fitness function\u001b[0m\u001b[0;34m\u001b[0m\u001b[0;34m\u001b[0m\u001b[0;34m\u001b[0m\u001b[0m\n\u001b[0;32m---> 29\u001b[0;31m     \u001b[0mcurFitness\u001b[0m \u001b[0;34m=\u001b[0m \u001b[0mexhaustiveSearchFitness\u001b[0m\u001b[0;34m(\u001b[0m\u001b[0mgene\u001b[0m\u001b[0;34m,\u001b[0m \u001b[0mgene_idx\u001b[0m\u001b[0;34m)\u001b[0m\u001b[0;34m\u001b[0m\u001b[0;34m\u001b[0m\u001b[0m\n\u001b[0m\u001b[1;32m     30\u001b[0m     \u001b[0;31m# Keep the best value\u001b[0m\u001b[0;34m\u001b[0m\u001b[0;34m\u001b[0m\u001b[0;34m\u001b[0m\u001b[0m\n\u001b[1;32m     31\u001b[0m     \u001b[0;32mif\u001b[0m \u001b[0mcurFitness\u001b[0m \u001b[0;34m>\u001b[0m \u001b[0mbestFitness\u001b[0m\u001b[0;34m:\u001b[0m\u001b[0;34m\u001b[0m\u001b[0;34m\u001b[0m\u001b[0m\n",
      "\u001b[0;32m<ipython-input-62-a093c4b3abcc>\u001b[0m in \u001b[0;36mexhaustiveSearchFitness\u001b[0;34m(solution, solution_idx)\u001b[0m\n\u001b[1;32m     14\u001b[0m \u001b[0;34m\u001b[0m\u001b[0m\n\u001b[1;32m     15\u001b[0m     \u001b[0mfloatResult1\u001b[0m \u001b[0;34m=\u001b[0m \u001b[0mabs\u001b[0m\u001b[0;34m(\u001b[0m\u001b[0mco2\u001b[0m\u001b[0;34m.\u001b[0m\u001b[0mpredict\u001b[0m\u001b[0;34m(\u001b[0m\u001b[0;34m[\u001b[0m\u001b[0msolution3\u001b[0m\u001b[0;34m]\u001b[0m\u001b[0;34m)\u001b[0m\u001b[0;34m[\u001b[0m\u001b[0;36m0\u001b[0m\u001b[0;34m]\u001b[0m \u001b[0;34m+\u001b[0m \u001b[0;36m9.6\u001b[0m\u001b[0;34m)\u001b[0m\u001b[0;34m\u001b[0m\u001b[0;34m\u001b[0m\u001b[0m\n\u001b[0;32m---> 16\u001b[0;31m     \u001b[0mfloatResult2\u001b[0m \u001b[0;34m=\u001b[0m \u001b[0mabs\u001b[0m\u001b[0;34m(\u001b[0m\u001b[0mco2\u001b[0m\u001b[0;34m.\u001b[0m\u001b[0mpredict\u001b[0m\u001b[0;34m(\u001b[0m\u001b[0;34m[\u001b[0m\u001b[0msolution3\u001b[0m\u001b[0;34m]\u001b[0m\u001b[0;34m)\u001b[0m\u001b[0;34m[\u001b[0m\u001b[0;36m0\u001b[0m\u001b[0;34m]\u001b[0m \u001b[0;34m-\u001b[0m \u001b[0mch4\u001b[0m\u001b[0;34m.\u001b[0m\u001b[0mpredict\u001b[0m\u001b[0;34m(\u001b[0m\u001b[0;34m[\u001b[0m\u001b[0msolution3\u001b[0m\u001b[0;34m]\u001b[0m\u001b[0;34m)\u001b[0m\u001b[0;34m[\u001b[0m\u001b[0;36m0\u001b[0m\u001b[0;34m]\u001b[0m \u001b[0;34m-\u001b[0m \u001b[0;36m4.4\u001b[0m\u001b[0;34m)\u001b[0m\u001b[0;34m\u001b[0m\u001b[0;34m\u001b[0m\u001b[0m\n\u001b[0m\u001b[1;32m     17\u001b[0m     \u001b[0;31m# return 1.0 - (abs(floatResult - 2) + 10e-10)\u001b[0m\u001b[0;34m\u001b[0m\u001b[0;34m\u001b[0m\u001b[0;34m\u001b[0m\u001b[0m\n\u001b[1;32m     18\u001b[0m     \u001b[0;31m# return 1.0 - ((floatResult1*floatResult2) + 10e-10)\u001b[0m\u001b[0;34m\u001b[0m\u001b[0;34m\u001b[0m\u001b[0;34m\u001b[0m\u001b[0m\n",
      "\u001b[0;32m~/Downloads/Programming/Python/anaconda3/lib/python3.8/site-packages/xgboost/sklearn.py\u001b[0m in \u001b[0;36mpredict\u001b[0;34m(self, X, output_margin, ntree_limit, validate_features, base_margin, iteration_range)\u001b[0m\n\u001b[1;32m    901\u001b[0m             \u001b[0menable_categorical\u001b[0m\u001b[0;34m=\u001b[0m\u001b[0mself\u001b[0m\u001b[0;34m.\u001b[0m\u001b[0menable_categorical\u001b[0m\u001b[0;34m\u001b[0m\u001b[0;34m\u001b[0m\u001b[0m\n\u001b[1;32m    902\u001b[0m         )\n\u001b[0;32m--> 903\u001b[0;31m         return self.get_booster().predict(\n\u001b[0m\u001b[1;32m    904\u001b[0m             \u001b[0mdata\u001b[0m\u001b[0;34m=\u001b[0m\u001b[0mtest\u001b[0m\u001b[0;34m,\u001b[0m\u001b[0;34m\u001b[0m\u001b[0;34m\u001b[0m\u001b[0m\n\u001b[1;32m    905\u001b[0m             \u001b[0miteration_range\u001b[0m\u001b[0;34m=\u001b[0m\u001b[0miteration_range\u001b[0m\u001b[0;34m,\u001b[0m\u001b[0;34m\u001b[0m\u001b[0;34m\u001b[0m\u001b[0m\n",
      "\u001b[0;32m~/Downloads/Programming/Python/anaconda3/lib/python3.8/site-packages/xgboost/core.py\u001b[0m in \u001b[0;36mpredict\u001b[0;34m(self, data, output_margin, ntree_limit, pred_leaf, pred_contribs, approx_contribs, pred_interactions, validate_features, training, iteration_range, strict_shape)\u001b[0m\n\u001b[1;32m   1912\u001b[0m         \u001b[0mdims\u001b[0m \u001b[0;34m=\u001b[0m \u001b[0mc_bst_ulong\u001b[0m\u001b[0;34m(\u001b[0m\u001b[0;34m)\u001b[0m\u001b[0;34m\u001b[0m\u001b[0;34m\u001b[0m\u001b[0m\n\u001b[1;32m   1913\u001b[0m         _check_call(\n\u001b[0;32m-> 1914\u001b[0;31m             _LIB.XGBoosterPredictFromDMatrix(\n\u001b[0m\u001b[1;32m   1915\u001b[0m                 \u001b[0mself\u001b[0m\u001b[0;34m.\u001b[0m\u001b[0mhandle\u001b[0m\u001b[0;34m,\u001b[0m\u001b[0;34m\u001b[0m\u001b[0;34m\u001b[0m\u001b[0m\n\u001b[1;32m   1916\u001b[0m                 \u001b[0mdata\u001b[0m\u001b[0;34m.\u001b[0m\u001b[0mhandle\u001b[0m\u001b[0;34m,\u001b[0m\u001b[0;34m\u001b[0m\u001b[0;34m\u001b[0m\u001b[0m\n",
      "\u001b[0;31mKeyboardInterrupt\u001b[0m: "
     ]
    }
   ],
   "source": [
    "# Alternative with exhaustive search\n",
    "# Complete options\n",
    "# TODO: Double check if a metal is missing\n",
    "gene_space =  [\n",
    "              [4, 12, 25, 27, 29, 30 ],\n",
    "              [3.66, 4.438, 4.86, 5.7, 6.01, 6.41],\n",
    "              [3.66, 4.438, 4.86, 5.7, 6.01, 6.41],\n",
    "              [3.66, 4.438, 4.86, 5.7, 5.996, 6.01, 6.41],\n",
    "              [2.278, 3.54, 3.78, 3.85, 3.927, 4.093],\n",
    "              [2.278, 3.54, 3.78, 3.85, 3.927, 4.093],\n",
    "              [2.278, 2.7, 3.54, 3.78, 3.85, 3.927, 4.093, 4.25],\n",
    "              ]\n",
    "\n",
    "# Init best values to something bad\n",
    "bestIndex = -1\n",
    "bestFitness = 0\n",
    "# Get all combinations\n",
    "combos = list(enumerate(itertools.product(*gene_space)))\n",
    "\n",
    "# Note starting time:\n",
    "tStart = time.time()\n",
    "\n",
    "# For every combination\n",
    "for combination in combos:\n",
    "    # Get gene and its index\n",
    "    gene  = np.array(combination[1])\n",
    "    gene_idx = combination[0]\n",
    "    # Call the fitness function\n",
    "    curFitness = exhaustiveSearchFitness(gene, gene_idx)\n",
    "    # Keep the best value\n",
    "    if curFitness > bestFitness:\n",
    "        bestFitness = curFitness\n",
    "        bestIndex = gene_idx\n",
    "        print(\"Found new best: %6.4f (idx: %d)\"%(bestFitness, bestIndex))\n",
    "    # Every now and then, give us an update\n",
    "    if gene_idx % 1000 == 0:\n",
    "        # Calculate per item time\n",
    "        tCurTime = time.time()\n",
    "        tTimePerItem = (tCurTime - tStart) / (gene_idx + 1)\n",
    "        print(\"Current progress: %6.4f (idx: %d)\"%(1.0 * gene_idx / len(combos), gene_idx))\n",
    "        print(\"Estimated Remaining time: %6.4f\"%(tTimePerItem * (len(combos) - gene_idx)))\n",
    "    \n",
    "\n",
    "print(\"Best fitness : %6.4f (idx: %d)\"%(bestFitness, bestIndex))\n",
    "print(\"Gene values: %s\"%(combos[bestIndex]))"
   ]
  },
  {
   "cell_type": "code",
   "execution_count": null,
   "metadata": {},
   "outputs": [],
   "source": [
    "fitness_function = fitness\n",
    "\n",
    "num_generations = 15000 # 2000, 12000\n",
    "num_parents_mating = 14 # 20,  22\n",
    " \n",
    "mutation_probability = [0.4, 0.05] # originally [0.4, 0.01]\n",
    "mutation_type = \"adaptive\" # random, swap, inversion, scramble, adaptive\n",
    "\n",
    "initial_population = Genes[0:68]\n",
    "\n",
    "# Complete options\n",
    "# gene_space =  [\n",
    "#               [4, 12, 25, 27, 29, 30 ],\n",
    "#               [3.66, 4.438, 4.86, 5.7, 6.01, 6.41],\n",
    "#               [3.66, 4.438, 4.86, 5.7, 6.01, 6.41],\n",
    "#               [3.66, 4.438, 4.86, 5.7, 5.996, 6.01, 6.41],\n",
    "#               [2.278, 3.54, 3.78, 3.85, 3.927, 4.093],\n",
    "#               [2.278, 3.54, 3.78, 3.85, 3.927, 4.093],\n",
    "#               [2.278, 2.7, 3.54, 3.78, 3.85, 3.927, 4.093, 4.25],\n",
    "#               ]\n",
    "\n",
    "# narrowed down options\n",
    "gene_space =  [\n",
    "              [4, 29],\n",
    "              [4.438, 4.86, 5.7, 6.01, 6.41],\n",
    "              [4.438, 4.86, 5.7, 6.01, 6.41],\n",
    "              [4.438, 4.86, 5.7, 6.01, 6.41],\n",
    "              [2.278, 3.54, 3.78],\n",
    "              [2.278, 3.54, 3.78],\n",
    "              [2.278, 2.7, 3.54, 3.78 ]\n",
    "              ]\n",
    "\n",
    "parent_selection_type = \"tournament\" #  \"sss\", \"rws\", \"tournament\", \"rank\", \"random\"\n",
    "K_tournament = 20 #12\n",
    "keep_parents = 4 # 4, 5\n",
    "\n",
    "crossover_type = \"uniform\" # single_point, two_points, uniform, scattered\n",
    "crossover_probability = 0.7"
   ]
  },
  {
   "cell_type": "code",
   "execution_count": null,
   "metadata": {},
   "outputs": [],
   "source": [
    "def on_generation(ga):\n",
    "    print(\"Generation\", ga.generations_completed)\n",
    "    print(ga.population)\n",
    "\n",
    "ga_instance = pygad.GA(num_generations=num_generations,\n",
    "                       num_parents_mating=num_parents_mating,\n",
    "                       fitness_func=fitness_function,\n",
    "                       initial_population = initial_population, \n",
    "                       parent_selection_type=parent_selection_type,\n",
    "                       keep_parents=keep_parents,\n",
    "                       crossover_type=crossover_type,\n",
    "                       mutation_type=mutation_type, \n",
    "                       # mutation_num_genes = mutation_num_genes,\n",
    "                       gene_space = gene_space,\n",
    "                       # sol_per_pop = sol_per_pop,\n",
    "                       # num_genes = num_genes,\n",
    "                       crossover_probability = crossover_probability,\n",
    "                       mutation_probability = mutation_probability,\n",
    "                       K_tournament = K_tournament,\n",
    "                       allow_duplicate_genes=False,\n",
    "                       # stop_criteria = \"reach_100\",\n",
    "                       # stop_criteria=[\"reach_127.4\", \"saturate_160\"],\n",
    "                       save_solutions=True,\n",
    "                       # on_generation=on_generation,\n",
    "                       save_best_solutions=True\n",
    "                      )"
   ]
  },
  {
   "cell_type": "markdown",
   "metadata": {},
   "source": [
    "# Single run"
   ]
  },
  {
   "cell_type": "code",
   "execution_count": null,
   "metadata": {},
   "outputs": [],
   "source": [
    "now = datetime.datetime.now()\n",
    "print (\"Current date and time : \")\n",
    "print (now.strftime(\"%Y-%m-%d %H:%M:%S\"))"
   ]
  },
  {
   "cell_type": "code",
   "execution_count": null,
   "metadata": {},
   "outputs": [],
   "source": [
    "start_time = time.time()\n",
    "ga_instance.run()\n",
    "print(\"--- %s minutes ---\" % ((time.time() - start_time)/60))"
   ]
  },
  {
   "cell_type": "code",
   "execution_count": null,
   "metadata": {},
   "outputs": [],
   "source": [
    "now = datetime.datetime.now()\n",
    "print (\"Current date and time : \")\n",
    "print (now.strftime(\"%Y-%m-%d %H:%M:%S\"))"
   ]
  },
  {
   "cell_type": "code",
   "execution_count": null,
   "metadata": {},
   "outputs": [],
   "source": [
    "solution, solution_fitness, solution_idx = ga_instance.best_solution()\n",
    "print(\"Parameters of the best solution : {solution}\".format(solution=solution))\n",
    "print(\"Fitness value of the best solution = {solution_fitness}\".format(solution_fitness=solution_fitness))\n",
    "\n",
    "solution2=np.array([\n",
    "                  MetalNum[solution[0]]['ionicRad'],\n",
    "                  linker_length1[solution[1]]['linker_mass1'],\n",
    "                  linker_length2[solution[2]]['linker_mass2'],\n",
    "                  linker_length3[solution[3]]['linker_mass3'],\n",
    "                  linker_length1[solution[1]]['σ'],\n",
    "                  linker_length1[solution[1]]['e'],\n",
    "                  func1_length[solution[4]]['func1_mass'],\n",
    "                  func2_length[solution[5]]['func2_mass'],\n",
    "                  func3_length[solution[6]]['func3_mass']])\n",
    "solution3=np.concatenate((solution,solution2), axis=0, out=None, dtype=None, casting=\"same_kind\")\n",
    "predictionco2 = co2.predict([solution3])[0]\n",
    "predictionch4 = ch4.predict([solution3])[0]\n",
    "\n",
    "print(predictionco2)\n",
    "print(predictionch4)"
   ]
  },
  {
   "cell_type": "code",
   "execution_count": null,
   "metadata": {},
   "outputs": [],
   "source": []
  },
  {
   "cell_type": "code",
   "execution_count": null,
   "metadata": {},
   "outputs": [],
   "source": [
    "solution"
   ]
  },
  {
   "cell_type": "code",
   "execution_count": null,
   "metadata": {},
   "outputs": [],
   "source": [
    "ch4.predict([[72.0, 4.438, 4.438, 4.438, 3.78, 3.78, 3.78, 8.100e+01, 8.100e+01, 8.100e+01, 2.500e-01, 6.270e-02,\n",
    "       1.500e+01, 1.500e+01, 1.500e+01]])"
   ]
  },
  {
   "cell_type": "code",
   "execution_count": null,
   "metadata": {},
   "outputs": [],
   "source": [
    "dfSol=pd.DataFrame(data = ga_instance.best_solutions)\n",
    "dfSol.shape"
   ]
  },
  {
   "cell_type": "code",
   "execution_count": null,
   "metadata": {},
   "outputs": [],
   "source": [
    "dfSol2=dfSol.drop_duplicates(keep='last')\n",
    "dfSol3 = dfSol2.reset_index()\n",
    "dfSol3 = dfSol3.drop(columns=['index'])\n",
    "dfSol3\n",
    "dfFiveBest = dfSol3\n",
    "dfFiveBest"
   ]
  },
  {
   "cell_type": "code",
   "execution_count": null,
   "metadata": {},
   "outputs": [],
   "source": [
    "print(ga_instance.plot_new_solution_rate())"
   ]
  },
  {
   "cell_type": "code",
   "execution_count": null,
   "metadata": {},
   "outputs": [],
   "source": [
    "# FiveBest = list()"
   ]
  },
  {
   "cell_type": "code",
   "execution_count": null,
   "metadata": {},
   "outputs": [],
   "source": [
    "dfSol4 = dfSol3.tail(50)\n",
    "# dfSol4 = dfSol4.drop(columns=['index'])\n",
    "solutions = np.asanyarray(dfSol4)\n",
    "FiveBest.extend(solutions)\n",
    "FiveBest\n",
    "dfFiveBest=pd.DataFrame(data = FiveBest)\n",
    "dfFiveBest"
   ]
  },
  {
   "cell_type": "markdown",
   "metadata": {},
   "source": [
    "# Loop for GA"
   ]
  },
  {
   "cell_type": "code",
   "execution_count": null,
   "metadata": {},
   "outputs": [],
   "source": [
    "start_time = time.time()\n",
    "\n",
    "FiveBest = list()\n",
    "\n",
    "for i in range(8):\n",
    "    ga_instance.run()\n",
    "    \n",
    "    # solution, solution_fitness, solution_idx = ga_instance.best_solution()\n",
    "    # prediction = XRegr.predict([solution])[0]\n",
    "    Sol=pd.DataFrame(data = ga_instance.best_solutions)\n",
    "    Sol2=Sol.drop_duplicates(keep='last')\n",
    "    Sol3 = Sol2.reset_index()\n",
    "    # Sol4 = Sol3.tail(20)\n",
    "    Sol3 = Sol3.drop(columns=['index'])\n",
    "    # Sol4 = Sol3.tail(20)\n",
    "    solutions = np.asanyarray(Sol3)\n",
    "    FiveBest.extend(solutions)\n",
    "\n",
    "print(\"--- %s minutes ---\" % ((time.time() - start_time)/60))"
   ]
  },
  {
   "cell_type": "code",
   "execution_count": null,
   "metadata": {},
   "outputs": [],
   "source": [
    "dfFiveBest=pd.DataFrame(data = FiveBest)\n",
    "# dfFiveBest.loc[29]\n",
    "# dfFiveBest.loc[41]\n",
    "dfFiveBest"
   ]
  },
  {
   "cell_type": "code",
   "execution_count": null,
   "metadata": {},
   "outputs": [],
   "source": [
    "# TheData = dfFiveBest\n",
    "# TheData.rename(columns={\"0\": \"metal\", \"1\": \"link1\", \"2\": \"link2\", \"3\": \"link3\", \"4\": \"func1\", \"5\": \"func2\", \"6\": \"func3\"})\n",
    "# TheData.columns = [\"metal\", \"link1\", \"link2\", \"link3\", \"func1\", \"func2\", \"func3\"]\n",
    "# TheData\n",
    "# dfFiveBest[(dfFiveBest[0] == 4.) & (dfFiveBest[1] == 4.86) & (dfFiveBest[2] == 4.86) ]\n",
    "dfFiveBest[(dfFiveBest[0] == 4.) & (dfFiveBest[2] == 4.86) & (dfFiveBest[5] == 3.78)& (dfFiveBest[6] == 3.78) ]\n",
    "# dfFiveBest[(dfFiveBest[0] == 4.)  ]\n",
    "# dfFiveBest[(dfFiveBest[0] == 29.) & (dfFiveBest[1] == 4.438) & (dfFiveBest[2] == 4.438) ]"
   ]
  },
  {
   "cell_type": "markdown",
   "metadata": {},
   "source": [
    "# RTree"
   ]
  },
  {
   "cell_type": "markdown",
   "metadata": {},
   "source": [
    "## create dataframe with ratios"
   ]
  },
  {
   "cell_type": "code",
   "execution_count": null,
   "metadata": {},
   "outputs": [],
   "source": [
    "dfRatios = pd.DataFrame(columns = ['type', 'MetalNum', 'ratio', 'linker_length1', 'linker_length2', 'linker_length3',\n",
    "        'func1_length', 'func2_length','func3_length', 'logD_co2', 'logD_ch4'])"
   ]
  },
  {
   "cell_type": "code",
   "execution_count": null,
   "metadata": {},
   "outputs": [],
   "source": [
    "k = 0\n",
    "\n",
    "for i in range(1, len(df2)):\n",
    "    if df2.loc[i-1, 'type'] == df2.loc[i, 'type'] and df2.loc[i-1, 'gas'] == 'CO2':\n",
    "        dfRatios.loc[k, 'ratio'] = df2.loc[i-1, 'logD']-df2.loc[i+1, 'logD']\n",
    "        dfRatios.loc[k, 'type'] = df2.loc[i-1, 'type']\n",
    "        dfRatios.loc[k, 'logD_co2'] = df2.loc[i-1, 'logD']\n",
    "        dfRatios.loc[k, 'logD_ch4'] = df2.loc[i+1, 'logD']\n",
    "        dfRatios.loc[k, ['MetalNum']] =  df2.loc[i-1, ['MetalNum']]\n",
    "        dfRatios.loc[k, ['linker_length1']] =  df2.loc[i-1, ['linker_length1']]\n",
    "        dfRatios.loc[k, ['linker_length2']] =  df2.loc[i-1, ['linker_length2']]\n",
    "        dfRatios.loc[k, ['linker_length3']] =  df2.loc[i-1, ['linker_length3']]\n",
    "        dfRatios.loc[k, ['func1_length']] =  df2.loc[i-1, ['func1_length']]\n",
    "        dfRatios.loc[k, ['func2_length']] =  df2.loc[i-1, ['func2_length']]\n",
    "        dfRatios.loc[k, ['func3_length']] =  df2.loc[i-1, ['func3_length']]\n",
    "        k=k+1\n",
    "\n",
    "            \n",
    "#         else:\n",
    "#             dfMetal.loc[k , 'metals'] = str('no')\n",
    "dfRatios.shape"
   ]
  },
  {
   "cell_type": "code",
   "execution_count": null,
   "metadata": {},
   "outputs": [],
   "source": [
    "dfRatios.head(5)"
   ]
  },
  {
   "cell_type": "code",
   "execution_count": null,
   "metadata": {},
   "outputs": [],
   "source": [
    "df3=dfRatios[[ 'MetalNum',\n",
    "        'linker_length1', 'linker_length2', 'linker_length3',\n",
    "        'func1_length' , 'func2_length', 'func3_length']]"
   ]
  },
  {
   "cell_type": "code",
   "execution_count": null,
   "metadata": {},
   "outputs": [],
   "source": [
    "def pointToRectangle(pointTuple):\n",
    "    tmpList = []\n",
    "    for x in pointTuple:\n",
    "        tmpList.append(x)\n",
    "        tmpList.append(x)\n",
    "    return tuple(tmpList)"
   ]
  },
  {
   "cell_type": "code",
   "execution_count": null,
   "metadata": {},
   "outputs": [],
   "source": [
    "p = index.Property()\n",
    "p.dimension = 7\n",
    "myidx = index.Index(properties=p, interleaved=False)"
   ]
  },
  {
   "cell_type": "code",
   "execution_count": null,
   "metadata": {},
   "outputs": [],
   "source": [
    "myPoints = dict()\n",
    "\n",
    "for i in range(0, len(df3)):\n",
    "    myPoints[i] = df3.loc[i]"
   ]
  },
  {
   "cell_type": "code",
   "execution_count": null,
   "metadata": {},
   "outputs": [],
   "source": [
    "p.dimension = 7\n",
    "myidx = index.Index(properties=p, interleaved=False)\n",
    "\n",
    "for idx in myPoints:\n",
    "    myidx.insert(idx, pointToRectangle(myPoints[idx]))"
   ]
  },
  {
   "cell_type": "markdown",
   "metadata": {},
   "source": [
    "## Do Rtree for the best from inverse design"
   ]
  },
  {
   "cell_type": "code",
   "execution_count": null,
   "metadata": {},
   "outputs": [],
   "source": [
    "listofBest = list()\n",
    "\n",
    "for i in range(0, len(dfFiveBest)):\n",
    "# for i in range(1, len(dfSol3)):\n",
    "    nearestNeighbour = list(myidx.nearest(pointToRectangle((dfFiveBest.loc[i]))))\n",
    "    # nearestNeighbour = list(myidx.nearest(pointToRectangle((dfSol3.loc[i]))))\n",
    "    listofBest.extend(nearestNeighbour)"
   ]
  },
  {
   "cell_type": "code",
   "execution_count": null,
   "metadata": {},
   "outputs": [],
   "source": [
    "list(myidx.nearest(pointToRectangle((dfFiveBest.loc[3]))))\n",
    "# listofBest"
   ]
  },
  {
   "cell_type": "markdown",
   "metadata": {},
   "source": [
    "## Tabulate the best SmartDeZIgn ZIFs from the RTree procedure "
   ]
  },
  {
   "cell_type": "code",
   "execution_count": null,
   "metadata": {},
   "outputs": [],
   "source": [
    "MyBestZIF = pd.DataFrame(columns = ['type', 'MetalNum',\n",
    "        'linker_length1', 'linker_length2','linker_length3',\n",
    "        'func1_length', 'func2_length','func3_length', 'logD_co2', 'logD_ch4', 'ratio'])\n",
    "\n",
    "NotGoodZIF = pd.DataFrame(columns = ['type', 'MetalNum',\n",
    "        'linker_length1', 'linker_length2','linker_length3',\n",
    "        'func1_length', 'func2_length','func3_length', 'logD_co2', 'logD_ch4','ratio'])\n",
    "\n",
    "for i in range(0, len(listofBest)):\n",
    "    j = listofBest[i]\n",
    "    if ((3.3 <= dfRatios.loc[j, 'ratio'] <= 4.6) and (-9.9 <= dfRatios.loc[j, 'logD_co2'] <= -8.6)):\n",
    "    # if 3.9 <= dfRatios.loc[j, 'ratio'] <= 4.4:\n",
    "    # if df2.loc[i, 'logD'] >= -14 and df2.loc[i, 'logD'] <= -10:\n",
    "        MyBestZIF.loc[i, ['type']] =  dfRatios.loc[j, ['type']]\n",
    "        MyBestZIF.loc[i, ['MetalNum']] =  dfRatios.loc[j, ['MetalNum']]\n",
    "        MyBestZIF.loc[i, ['linker_length1']] =  dfRatios.loc[j, ['linker_length1']]\n",
    "        MyBestZIF.loc[i, ['linker_length2']] =  dfRatios.loc[j, ['linker_length2']]\n",
    "        MyBestZIF.loc[i, ['linker_length3']] =  dfRatios.loc[j, ['linker_length3']]\n",
    "        MyBestZIF.loc[i, ['func1_length']] =  dfRatios.loc[j, ['func1_length']]\n",
    "        MyBestZIF.loc[i, ['func2_length']] =  dfRatios.loc[j, ['func2_length']]\n",
    "        MyBestZIF.loc[i, ['func3_length']] =  dfRatios.loc[j, ['func3_length']]\n",
    "        MyBestZIF.loc[i, ['logD_co2']] =  dfRatios.loc[j, ['logD_co2']]\n",
    "        MyBestZIF.loc[i, ['logD_ch4']] =  dfRatios.loc[j, ['logD_ch4']]\n",
    "        MyBestZIF.loc[i, ['ratio']] =  dfRatios.loc[j, ['ratio']]\n",
    "    else:\n",
    "        NotGoodZIF.loc[i, ['type']] =  dfRatios.loc[j, ['type']]\n",
    "        NotGoodZIF.loc[i, ['MetalNum']] =  dfRatios.loc[j, ['MetalNum']]\n",
    "        NotGoodZIF.loc[i, ['linker_length1']] =  dfRatios.loc[j, ['linker_length1']]\n",
    "        NotGoodZIF.loc[i, ['linker_length2']] =  dfRatios.loc[j, ['linker_length2']]\n",
    "        NotGoodZIF.loc[i, ['linker_length3']] =  dfRatios.loc[j, ['linker_length3']]\n",
    "        NotGoodZIF.loc[i, ['func1_length']] =  dfRatios.loc[j, ['func1_length']]\n",
    "        NotGoodZIF.loc[i, ['func2_length']] =  dfRatios.loc[j, ['func2_length']]\n",
    "        NotGoodZIF.loc[i, ['func3_length']] =  dfRatios.loc[j, ['func3_length']]\n",
    "        NotGoodZIF.loc[i, ['logD_co2']] =  dfRatios.loc[j, ['logD_co2']]\n",
    "        NotGoodZIF.loc[i, ['logD_ch4']] =  dfRatios.loc[j, ['logD_ch4']]\n",
    "        NotGoodZIF.loc[i, ['ratio']] =  dfRatios.loc[j, ['ratio']]"
   ]
  },
  {
   "cell_type": "code",
   "execution_count": null,
   "metadata": {},
   "outputs": [],
   "source": [
    "MyBestZIF.sort_values(by=['ratio'], ascending=True)"
   ]
  },
  {
   "cell_type": "code",
   "execution_count": null,
   "metadata": {},
   "outputs": [],
   "source": [
    "MyBestZIF.groupby('type').count().sort_values(by=['ratio'], ascending=False)"
   ]
  },
  {
   "cell_type": "code",
   "execution_count": null,
   "metadata": {},
   "outputs": [],
   "source": [
    "NotGoodZIF"
   ]
  },
  {
   "cell_type": "code",
   "execution_count": null,
   "metadata": {},
   "outputs": [],
   "source": [
    "list(myidx.nearest(pointToRectangle((dfFiveBest.loc[18]))))"
   ]
  },
  {
   "cell_type": "code",
   "execution_count": null,
   "metadata": {},
   "outputs": [],
   "source": [
    "dfRatios.loc[54]"
   ]
  },
  {
   "cell_type": "code",
   "execution_count": null,
   "metadata": {},
   "outputs": [],
   "source": []
  },
  {
   "cell_type": "code",
   "execution_count": null,
   "metadata": {},
   "outputs": [],
   "source": [
    "\n"
   ]
  },
  {
   "cell_type": "code",
   "execution_count": null,
   "metadata": {},
   "outputs": [],
   "source": [
    "MyBestZIF2=MyBestZIF.drop_duplicates().reset_index()"
   ]
  },
  {
   "cell_type": "code",
   "execution_count": null,
   "metadata": {},
   "outputs": [],
   "source": [
    "MyBestZIF2 = MyBestZIF2.drop(columns=['index', 'logD_co2', 'logD_ch4','ratio', 'type'])\n",
    "MyBestZIF2"
   ]
  },
  {
   "cell_type": "code",
   "execution_count": null,
   "metadata": {},
   "outputs": [],
   "source": [
    "p = index.Property()\n",
    "p.dimension = 7\n",
    "myidx2 = index.Index(properties=p, interleaved=False)"
   ]
  },
  {
   "cell_type": "code",
   "execution_count": null,
   "metadata": {},
   "outputs": [],
   "source": [
    "myPoints2 = dict()\n",
    "\n",
    "for i in range(0, len(dfFiveBest)):\n",
    "    myPoints2[i] = dfFiveBest.loc[i]"
   ]
  },
  {
   "cell_type": "code",
   "execution_count": null,
   "metadata": {},
   "outputs": [],
   "source": [
    "p.dimension = 7\n",
    "myidx2 = index.Index(properties=p, interleaved=False)\n",
    "\n",
    "for idx in myPoints2:\n",
    "    myidx2.insert(idx, pointToRectangle(myPoints2[idx]))"
   ]
  },
  {
   "cell_type": "code",
   "execution_count": null,
   "metadata": {},
   "outputs": [],
   "source": [
    "listofBest2 = list()\n",
    "\n",
    "for i in range(0, len(MyBestZIF2)):\n",
    "# for i in range(1, len(dfSol3)):\n",
    "    nearestNeighbour2 = list(myidx2.nearest(pointToRectangle((MyBestZIF2.loc[i]))))\n",
    "    # nearestNeighbour = list(myidx.nearest(pointToRectangle((dfSol3.loc[i]))))\n",
    "    listofBest2.extend(nearestNeighbour2)"
   ]
  },
  {
   "cell_type": "code",
   "execution_count": null,
   "metadata": {},
   "outputs": [],
   "source": [
    "# list(myidx2.nearest(pointToRectangle((MyBestZIF2.loc[0]))))\n",
    "listofBest2"
   ]
  },
  {
   "cell_type": "code",
   "execution_count": null,
   "metadata": {},
   "outputs": [],
   "source": [
    "dfFiveBest.loc[548]"
   ]
  },
  {
   "cell_type": "code",
   "execution_count": null,
   "metadata": {},
   "outputs": [],
   "source": [
    "list(myidx.nearest(pointToRectangle((dfFiveBest.loc[548]))))"
   ]
  },
  {
   "cell_type": "code",
   "execution_count": null,
   "metadata": {},
   "outputs": [],
   "source": [
    "dfRatios.loc[67]"
   ]
  },
  {
   "cell_type": "code",
   "execution_count": null,
   "metadata": {},
   "outputs": [],
   "source": []
  }
 ],
 "metadata": {
  "kernelspec": {
   "display_name": "Python 3",
   "language": "python",
   "name": "python3"
  },
  "language_info": {
   "codemirror_mode": {
    "name": "ipython",
    "version": 3
   },
   "file_extension": ".py",
   "mimetype": "text/x-python",
   "name": "python",
   "nbconvert_exporter": "python",
   "pygments_lexer": "ipython3",
   "version": "3.8.12"
  }
 },
 "nbformat": 4,
 "nbformat_minor": 4
}
