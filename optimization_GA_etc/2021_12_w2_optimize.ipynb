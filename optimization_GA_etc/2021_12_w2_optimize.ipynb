{
 "cells": [
  {
   "cell_type": "code",
   "execution_count": 1,
   "metadata": {},
   "outputs": [],
   "source": [
    "import pandas as pd\n",
    "import seaborn as sns\n",
    "import numpy as np\n",
    "from scipy.optimize import minimize\n",
    "from scipy.optimize import minimize_scalar\n",
    "%matplotlib inline\n",
    "import matplotlib.pyplot as plt\n",
    "\n",
    "#import models\n",
    "from sklearn.linear_model import LinearRegression\n",
    "from sklearn.neural_network import MLPRegressor\n",
    "from sklearn.tree import DecisionTreeRegressor\n",
    "from sklearn import linear_model\n",
    "from sklearn.ensemble import RandomForestRegressor\n",
    "from sklearn.ensemble import GradientBoostingRegressor\n",
    "#from xgboost import XGBRegressor\n",
    "\n",
    "from sklearn import model_selection\n",
    "from sklearn.metrics import explained_variance_score\n",
    "# from sklearn.metrics import mean_absolute_percentage_error\n",
    "from sklearn.metrics import mean_squared_error\n",
    "from tabulate import _table_formats, tabulate\n",
    "from sklearn.model_selection import RepeatedKFold\n",
    "from sklearn.model_selection import train_test_split\n",
    "from sklearn.model_selection import KFold\n",
    "\n",
    "from sklearn import metrics"
   ]
  },
  {
   "cell_type": "code",
   "execution_count": 2,
   "metadata": {},
   "outputs": [],
   "source": [
    "# datas = './MyData.xlsx'\n",
    "datas = '/Users/pkrok/OneDrive/Python/Giannakopoulos/MyData.xlsx'\n",
    "# datas = '/Users/panagiotiskrokidas/OneDrive/Python/Giannakopoulos/MyData.xlsx'"
   ]
  },
  {
   "cell_type": "code",
   "execution_count": 3,
   "metadata": {},
   "outputs": [
    {
     "data": {
      "text/plain": [
       "62"
      ]
     },
     "execution_count": 3,
     "metadata": {},
     "output_type": "execute_result"
    }
   ],
   "source": [
    "pd.set_option(\"display.max_columns\", None)\n",
    "df=pd.read_excel(datas)\n",
    "df.head(2)\n",
    "df['logD'] = np.log10(df['diffusivity'])\n",
    "# df = df.dropna()\n",
    "# df[df.gas == 'propylene']['logD'].max()\n",
    "df[df.gas == 'H2']['logD'].count()"
   ]
  },
  {
   "cell_type": "code",
   "execution_count": null,
   "metadata": {},
   "outputs": [],
   "source": []
  },
  {
   "cell_type": "markdown",
   "metadata": {},
   "source": [
    "# Keep only the columns I need"
   ]
  },
  {
   "cell_type": "code",
   "execution_count": 4,
   "metadata": {},
   "outputs": [],
   "source": [
    "# df2=df[[ 'aperture', 'size - van der Waals (Å)','mass', 'ascentricF', 'logD', 'size - kinetic diameter (Å)', 'gas', 'apertureAtom_e', 'ionicRad']]\n",
    "df2=df[[ 'aperture', 'size - van der Waals (Å)','mass', 'ascentricF', 'logD', 'size - kinetic diameter (Å)', 'ionicRad', \n",
    "       'Μ-N_lff', 'Μ-N_kFF', 'ionicRad', 'MetalCharge',\n",
    "       'apertureAtom_σ', 'apertureAtom_e', 'linker_length1', 'linker_length2',\n",
    "       'linker_length3', 'linker_mass1', 'linker_mass2', 'linker_mass3',\n",
    "       'func1_length', 'func2_length', 'func3_length', 'func1_mass',  \n",
    "       'func2_mass', 'func3_mass', 'func1_charge', 'func2_charge',\n",
    "       'func3_charge',]]"
   ]
  },
  {
   "cell_type": "code",
   "execution_count": null,
   "metadata": {},
   "outputs": [],
   "source": []
  },
  {
   "cell_type": "code",
   "execution_count": 5,
   "metadata": {},
   "outputs": [],
   "source": [
    "df2=df2.rename(columns={'size - van der Waals (Å)':'diameter', 'size - kinetic diameter (Å)':'kdiameter', 'apertureAtom_e':'e' })"
   ]
  },
  {
   "cell_type": "markdown",
   "metadata": {},
   "source": [
    "\n"
   ]
  },
  {
   "cell_type": "code",
   "execution_count": 6,
   "metadata": {},
   "outputs": [
    {
     "data": {
      "text/html": [
       "<div>\n",
       "<style scoped>\n",
       "    .dataframe tbody tr th:only-of-type {\n",
       "        vertical-align: middle;\n",
       "    }\n",
       "\n",
       "    .dataframe tbody tr th {\n",
       "        vertical-align: top;\n",
       "    }\n",
       "\n",
       "    .dataframe thead th {\n",
       "        text-align: right;\n",
       "    }\n",
       "</style>\n",
       "<table border=\"1\" class=\"dataframe\">\n",
       "  <thead>\n",
       "    <tr style=\"text-align: right;\">\n",
       "      <th></th>\n",
       "      <th>aperture</th>\n",
       "      <th>diameter</th>\n",
       "      <th>mass</th>\n",
       "      <th>ascentricF</th>\n",
       "      <th>logD</th>\n",
       "      <th>kdiameter</th>\n",
       "      <th>ionicRad</th>\n",
       "      <th>Μ-N_lff</th>\n",
       "      <th>Μ-N_kFF</th>\n",
       "      <th>ionicRad</th>\n",
       "      <th>MetalCharge</th>\n",
       "      <th>apertureAtom_σ</th>\n",
       "      <th>e</th>\n",
       "      <th>linker_length1</th>\n",
       "      <th>linker_length2</th>\n",
       "      <th>linker_length3</th>\n",
       "      <th>linker_mass1</th>\n",
       "      <th>linker_mass2</th>\n",
       "      <th>linker_mass3</th>\n",
       "      <th>func1_length</th>\n",
       "      <th>func2_length</th>\n",
       "      <th>func3_length</th>\n",
       "      <th>func1_mass</th>\n",
       "      <th>func2_mass</th>\n",
       "      <th>func3_mass</th>\n",
       "      <th>func1_charge</th>\n",
       "      <th>func2_charge</th>\n",
       "      <th>func3_charge</th>\n",
       "    </tr>\n",
       "  </thead>\n",
       "  <tbody>\n",
       "    <tr>\n",
       "      <th>0</th>\n",
       "      <td>3.92</td>\n",
       "      <td>2.66</td>\n",
       "      <td>4.002</td>\n",
       "      <td>-0.390</td>\n",
       "      <td>-7.221849</td>\n",
       "      <td>2.60</td>\n",
       "      <td>92</td>\n",
       "      <td>2.257</td>\n",
       "      <td>45354.60</td>\n",
       "      <td>92</td>\n",
       "      <td>1.1901</td>\n",
       "      <td>0.25</td>\n",
       "      <td>0.0627</td>\n",
       "      <td>4.438</td>\n",
       "      <td>4.438</td>\n",
       "      <td>4.438</td>\n",
       "      <td>81.000</td>\n",
       "      <td>81.000</td>\n",
       "      <td>81.000</td>\n",
       "      <td>3.78</td>\n",
       "      <td>3.78</td>\n",
       "      <td>3.78</td>\n",
       "      <td>15.0</td>\n",
       "      <td>15.0</td>\n",
       "      <td>15.0</td>\n",
       "      <td>-0.1001</td>\n",
       "      <td>-0.1001</td>\n",
       "      <td>-0.1001</td>\n",
       "    </tr>\n",
       "    <tr>\n",
       "      <th>1</th>\n",
       "      <td>3.92</td>\n",
       "      <td>2.76</td>\n",
       "      <td>2.010</td>\n",
       "      <td>-0.217</td>\n",
       "      <td>-7.301030</td>\n",
       "      <td>2.89</td>\n",
       "      <td>92</td>\n",
       "      <td>2.257</td>\n",
       "      <td>45354.60</td>\n",
       "      <td>92</td>\n",
       "      <td>1.1901</td>\n",
       "      <td>0.25</td>\n",
       "      <td>0.0627</td>\n",
       "      <td>4.438</td>\n",
       "      <td>4.438</td>\n",
       "      <td>4.438</td>\n",
       "      <td>81.000</td>\n",
       "      <td>81.000</td>\n",
       "      <td>81.000</td>\n",
       "      <td>3.78</td>\n",
       "      <td>3.78</td>\n",
       "      <td>3.78</td>\n",
       "      <td>15.0</td>\n",
       "      <td>15.0</td>\n",
       "      <td>15.0</td>\n",
       "      <td>-0.1001</td>\n",
       "      <td>-0.1001</td>\n",
       "      <td>-0.1001</td>\n",
       "    </tr>\n",
       "    <tr>\n",
       "      <th>2</th>\n",
       "      <td>3.92</td>\n",
       "      <td>2.94</td>\n",
       "      <td>31.999</td>\n",
       "      <td>0.022</td>\n",
       "      <td>-8.000000</td>\n",
       "      <td>3.46</td>\n",
       "      <td>92</td>\n",
       "      <td>2.257</td>\n",
       "      <td>45354.60</td>\n",
       "      <td>92</td>\n",
       "      <td>1.1901</td>\n",
       "      <td>0.25</td>\n",
       "      <td>0.0627</td>\n",
       "      <td>4.438</td>\n",
       "      <td>4.438</td>\n",
       "      <td>4.438</td>\n",
       "      <td>81.000</td>\n",
       "      <td>81.000</td>\n",
       "      <td>81.000</td>\n",
       "      <td>3.78</td>\n",
       "      <td>3.78</td>\n",
       "      <td>3.78</td>\n",
       "      <td>15.0</td>\n",
       "      <td>15.0</td>\n",
       "      <td>15.0</td>\n",
       "      <td>-0.1001</td>\n",
       "      <td>-0.1001</td>\n",
       "      <td>-0.1001</td>\n",
       "    </tr>\n",
       "    <tr>\n",
       "      <th>3</th>\n",
       "      <td>3.92</td>\n",
       "      <td>3.24</td>\n",
       "      <td>44.010</td>\n",
       "      <td>0.225</td>\n",
       "      <td>-8.397940</td>\n",
       "      <td>3.30</td>\n",
       "      <td>92</td>\n",
       "      <td>2.257</td>\n",
       "      <td>45354.60</td>\n",
       "      <td>92</td>\n",
       "      <td>1.1901</td>\n",
       "      <td>0.25</td>\n",
       "      <td>0.0627</td>\n",
       "      <td>4.438</td>\n",
       "      <td>4.438</td>\n",
       "      <td>4.438</td>\n",
       "      <td>81.000</td>\n",
       "      <td>81.000</td>\n",
       "      <td>81.000</td>\n",
       "      <td>3.78</td>\n",
       "      <td>3.78</td>\n",
       "      <td>3.78</td>\n",
       "      <td>15.0</td>\n",
       "      <td>15.0</td>\n",
       "      <td>15.0</td>\n",
       "      <td>-0.1001</td>\n",
       "      <td>-0.1001</td>\n",
       "      <td>-0.1001</td>\n",
       "    </tr>\n",
       "    <tr>\n",
       "      <th>4</th>\n",
       "      <td>3.92</td>\n",
       "      <td>3.13</td>\n",
       "      <td>28.000</td>\n",
       "      <td>0.037</td>\n",
       "      <td>-8.301030</td>\n",
       "      <td>3.64</td>\n",
       "      <td>92</td>\n",
       "      <td>2.257</td>\n",
       "      <td>45354.60</td>\n",
       "      <td>92</td>\n",
       "      <td>1.1901</td>\n",
       "      <td>0.25</td>\n",
       "      <td>0.0627</td>\n",
       "      <td>4.438</td>\n",
       "      <td>4.438</td>\n",
       "      <td>4.438</td>\n",
       "      <td>81.000</td>\n",
       "      <td>81.000</td>\n",
       "      <td>81.000</td>\n",
       "      <td>3.78</td>\n",
       "      <td>3.78</td>\n",
       "      <td>3.78</td>\n",
       "      <td>15.0</td>\n",
       "      <td>15.0</td>\n",
       "      <td>15.0</td>\n",
       "      <td>-0.1001</td>\n",
       "      <td>-0.1001</td>\n",
       "      <td>-0.1001</td>\n",
       "    </tr>\n",
       "    <tr>\n",
       "      <th>...</th>\n",
       "      <td>...</td>\n",
       "      <td>...</td>\n",
       "      <td>...</td>\n",
       "      <td>...</td>\n",
       "      <td>...</td>\n",
       "      <td>...</td>\n",
       "      <td>...</td>\n",
       "      <td>...</td>\n",
       "      <td>...</td>\n",
       "      <td>...</td>\n",
       "      <td>...</td>\n",
       "      <td>...</td>\n",
       "      <td>...</td>\n",
       "      <td>...</td>\n",
       "      <td>...</td>\n",
       "      <td>...</td>\n",
       "      <td>...</td>\n",
       "      <td>...</td>\n",
       "      <td>...</td>\n",
       "      <td>...</td>\n",
       "      <td>...</td>\n",
       "      <td>...</td>\n",
       "      <td>...</td>\n",
       "      <td>...</td>\n",
       "      <td>...</td>\n",
       "      <td>...</td>\n",
       "      <td>...</td>\n",
       "      <td>...</td>\n",
       "    </tr>\n",
       "    <tr>\n",
       "      <th>593</th>\n",
       "      <td>2.95</td>\n",
       "      <td>2.76</td>\n",
       "      <td>2.010</td>\n",
       "      <td>-0.217</td>\n",
       "      <td>-7.455932</td>\n",
       "      <td>2.89</td>\n",
       "      <td>71</td>\n",
       "      <td>2.139</td>\n",
       "      <td>38994.88</td>\n",
       "      <td>71</td>\n",
       "      <td>1.9871</td>\n",
       "      <td>0.34</td>\n",
       "      <td>1.2552</td>\n",
       "      <td>6.410</td>\n",
       "      <td>6.410</td>\n",
       "      <td>6.410</td>\n",
       "      <td>134.906</td>\n",
       "      <td>134.906</td>\n",
       "      <td>134.906</td>\n",
       "      <td>3.78</td>\n",
       "      <td>3.78</td>\n",
       "      <td>3.78</td>\n",
       "      <td>15.0</td>\n",
       "      <td>15.0</td>\n",
       "      <td>15.0</td>\n",
       "      <td>-0.2710</td>\n",
       "      <td>-0.2710</td>\n",
       "      <td>-0.2710</td>\n",
       "    </tr>\n",
       "    <tr>\n",
       "      <th>594</th>\n",
       "      <td>2.95</td>\n",
       "      <td>2.94</td>\n",
       "      <td>31.999</td>\n",
       "      <td>0.022</td>\n",
       "      <td>-9.180456</td>\n",
       "      <td>3.46</td>\n",
       "      <td>71</td>\n",
       "      <td>2.139</td>\n",
       "      <td>38994.88</td>\n",
       "      <td>71</td>\n",
       "      <td>1.9871</td>\n",
       "      <td>0.34</td>\n",
       "      <td>1.2552</td>\n",
       "      <td>6.410</td>\n",
       "      <td>6.410</td>\n",
       "      <td>6.410</td>\n",
       "      <td>134.906</td>\n",
       "      <td>134.906</td>\n",
       "      <td>134.906</td>\n",
       "      <td>3.78</td>\n",
       "      <td>3.78</td>\n",
       "      <td>3.78</td>\n",
       "      <td>15.0</td>\n",
       "      <td>15.0</td>\n",
       "      <td>15.0</td>\n",
       "      <td>-0.2710</td>\n",
       "      <td>-0.2710</td>\n",
       "      <td>-0.2710</td>\n",
       "    </tr>\n",
       "    <tr>\n",
       "      <th>595</th>\n",
       "      <td>2.95</td>\n",
       "      <td>3.24</td>\n",
       "      <td>44.010</td>\n",
       "      <td>0.225</td>\n",
       "      <td>-9.096910</td>\n",
       "      <td>3.30</td>\n",
       "      <td>71</td>\n",
       "      <td>2.139</td>\n",
       "      <td>38994.88</td>\n",
       "      <td>71</td>\n",
       "      <td>1.9871</td>\n",
       "      <td>0.34</td>\n",
       "      <td>1.2552</td>\n",
       "      <td>6.410</td>\n",
       "      <td>6.410</td>\n",
       "      <td>6.410</td>\n",
       "      <td>134.906</td>\n",
       "      <td>134.906</td>\n",
       "      <td>134.906</td>\n",
       "      <td>3.78</td>\n",
       "      <td>3.78</td>\n",
       "      <td>3.78</td>\n",
       "      <td>15.0</td>\n",
       "      <td>15.0</td>\n",
       "      <td>15.0</td>\n",
       "      <td>-0.2710</td>\n",
       "      <td>-0.2710</td>\n",
       "      <td>-0.2710</td>\n",
       "    </tr>\n",
       "    <tr>\n",
       "      <th>596</th>\n",
       "      <td>2.95</td>\n",
       "      <td>3.13</td>\n",
       "      <td>28.000</td>\n",
       "      <td>0.037</td>\n",
       "      <td>-9.638272</td>\n",
       "      <td>3.64</td>\n",
       "      <td>71</td>\n",
       "      <td>2.139</td>\n",
       "      <td>38994.88</td>\n",
       "      <td>71</td>\n",
       "      <td>1.9871</td>\n",
       "      <td>0.34</td>\n",
       "      <td>1.2552</td>\n",
       "      <td>6.410</td>\n",
       "      <td>6.410</td>\n",
       "      <td>6.410</td>\n",
       "      <td>134.906</td>\n",
       "      <td>134.906</td>\n",
       "      <td>134.906</td>\n",
       "      <td>3.78</td>\n",
       "      <td>3.78</td>\n",
       "      <td>3.78</td>\n",
       "      <td>15.0</td>\n",
       "      <td>15.0</td>\n",
       "      <td>15.0</td>\n",
       "      <td>-0.2710</td>\n",
       "      <td>-0.2710</td>\n",
       "      <td>-0.2710</td>\n",
       "    </tr>\n",
       "    <tr>\n",
       "      <th>597</th>\n",
       "      <td>2.95</td>\n",
       "      <td>3.25</td>\n",
       "      <td>16.040</td>\n",
       "      <td>0.011</td>\n",
       "      <td>-11.522879</td>\n",
       "      <td>3.80</td>\n",
       "      <td>71</td>\n",
       "      <td>2.139</td>\n",
       "      <td>38994.88</td>\n",
       "      <td>71</td>\n",
       "      <td>1.9871</td>\n",
       "      <td>0.34</td>\n",
       "      <td>1.2552</td>\n",
       "      <td>6.410</td>\n",
       "      <td>6.410</td>\n",
       "      <td>6.410</td>\n",
       "      <td>134.906</td>\n",
       "      <td>134.906</td>\n",
       "      <td>134.906</td>\n",
       "      <td>3.78</td>\n",
       "      <td>3.78</td>\n",
       "      <td>3.78</td>\n",
       "      <td>15.0</td>\n",
       "      <td>15.0</td>\n",
       "      <td>15.0</td>\n",
       "      <td>-0.2710</td>\n",
       "      <td>-0.2710</td>\n",
       "      <td>-0.2710</td>\n",
       "    </tr>\n",
       "  </tbody>\n",
       "</table>\n",
       "<p>598 rows × 28 columns</p>\n",
       "</div>"
      ],
      "text/plain": [
       "     aperture  diameter    mass  ascentricF       logD  kdiameter  ionicRad  \\\n",
       "0        3.92      2.66   4.002      -0.390  -7.221849       2.60        92   \n",
       "1        3.92      2.76   2.010      -0.217  -7.301030       2.89        92   \n",
       "2        3.92      2.94  31.999       0.022  -8.000000       3.46        92   \n",
       "3        3.92      3.24  44.010       0.225  -8.397940       3.30        92   \n",
       "4        3.92      3.13  28.000       0.037  -8.301030       3.64        92   \n",
       "..        ...       ...     ...         ...        ...        ...       ...   \n",
       "593      2.95      2.76   2.010      -0.217  -7.455932       2.89        71   \n",
       "594      2.95      2.94  31.999       0.022  -9.180456       3.46        71   \n",
       "595      2.95      3.24  44.010       0.225  -9.096910       3.30        71   \n",
       "596      2.95      3.13  28.000       0.037  -9.638272       3.64        71   \n",
       "597      2.95      3.25  16.040       0.011 -11.522879       3.80        71   \n",
       "\n",
       "     Μ-N_lff   Μ-N_kFF  ionicRad  MetalCharge  apertureAtom_σ       e  \\\n",
       "0      2.257  45354.60        92       1.1901            0.25  0.0627   \n",
       "1      2.257  45354.60        92       1.1901            0.25  0.0627   \n",
       "2      2.257  45354.60        92       1.1901            0.25  0.0627   \n",
       "3      2.257  45354.60        92       1.1901            0.25  0.0627   \n",
       "4      2.257  45354.60        92       1.1901            0.25  0.0627   \n",
       "..       ...       ...       ...          ...             ...     ...   \n",
       "593    2.139  38994.88        71       1.9871            0.34  1.2552   \n",
       "594    2.139  38994.88        71       1.9871            0.34  1.2552   \n",
       "595    2.139  38994.88        71       1.9871            0.34  1.2552   \n",
       "596    2.139  38994.88        71       1.9871            0.34  1.2552   \n",
       "597    2.139  38994.88        71       1.9871            0.34  1.2552   \n",
       "\n",
       "     linker_length1  linker_length2  linker_length3  linker_mass1  \\\n",
       "0             4.438           4.438           4.438        81.000   \n",
       "1             4.438           4.438           4.438        81.000   \n",
       "2             4.438           4.438           4.438        81.000   \n",
       "3             4.438           4.438           4.438        81.000   \n",
       "4             4.438           4.438           4.438        81.000   \n",
       "..              ...             ...             ...           ...   \n",
       "593           6.410           6.410           6.410       134.906   \n",
       "594           6.410           6.410           6.410       134.906   \n",
       "595           6.410           6.410           6.410       134.906   \n",
       "596           6.410           6.410           6.410       134.906   \n",
       "597           6.410           6.410           6.410       134.906   \n",
       "\n",
       "     linker_mass2  linker_mass3  func1_length  func2_length  func3_length  \\\n",
       "0          81.000        81.000          3.78          3.78          3.78   \n",
       "1          81.000        81.000          3.78          3.78          3.78   \n",
       "2          81.000        81.000          3.78          3.78          3.78   \n",
       "3          81.000        81.000          3.78          3.78          3.78   \n",
       "4          81.000        81.000          3.78          3.78          3.78   \n",
       "..            ...           ...           ...           ...           ...   \n",
       "593       134.906       134.906          3.78          3.78          3.78   \n",
       "594       134.906       134.906          3.78          3.78          3.78   \n",
       "595       134.906       134.906          3.78          3.78          3.78   \n",
       "596       134.906       134.906          3.78          3.78          3.78   \n",
       "597       134.906       134.906          3.78          3.78          3.78   \n",
       "\n",
       "     func1_mass  func2_mass  func3_mass  func1_charge  func2_charge  \\\n",
       "0          15.0        15.0        15.0       -0.1001       -0.1001   \n",
       "1          15.0        15.0        15.0       -0.1001       -0.1001   \n",
       "2          15.0        15.0        15.0       -0.1001       -0.1001   \n",
       "3          15.0        15.0        15.0       -0.1001       -0.1001   \n",
       "4          15.0        15.0        15.0       -0.1001       -0.1001   \n",
       "..          ...         ...         ...           ...           ...   \n",
       "593        15.0        15.0        15.0       -0.2710       -0.2710   \n",
       "594        15.0        15.0        15.0       -0.2710       -0.2710   \n",
       "595        15.0        15.0        15.0       -0.2710       -0.2710   \n",
       "596        15.0        15.0        15.0       -0.2710       -0.2710   \n",
       "597        15.0        15.0        15.0       -0.2710       -0.2710   \n",
       "\n",
       "     func3_charge  \n",
       "0         -0.1001  \n",
       "1         -0.1001  \n",
       "2         -0.1001  \n",
       "3         -0.1001  \n",
       "4         -0.1001  \n",
       "..            ...  \n",
       "593       -0.2710  \n",
       "594       -0.2710  \n",
       "595       -0.2710  \n",
       "596       -0.2710  \n",
       "597       -0.2710  \n",
       "\n",
       "[598 rows x 28 columns]"
      ]
     },
     "execution_count": 6,
     "metadata": {},
     "output_type": "execute_result"
    }
   ],
   "source": [
    "df2 = df2.dropna()\n",
    "df2=df2.reset_index(drop=True)\n",
    "df2"
   ]
  },
  {
   "cell_type": "markdown",
   "metadata": {},
   "source": [
    "# Use only van der Waals"
   ]
  },
  {
   "cell_type": "code",
   "execution_count": 7,
   "metadata": {},
   "outputs": [],
   "source": [
    "x_ar = np.array(df2[['aperture', 'diameter']])\n",
    "# x_ar = np.asanyarray(df2[['aperture', 'diameter','mass', 'ascentricF', 'kdiameter', 'ionicRad']])\n",
    "y_ar = np.array(df2[['logD']])\n",
    "\n",
    "x1 = (df2[['aperture', 'diameter']])\n",
    "# x1 = (df2[['aperture']])\n",
    "y1 = (df2[['logD']])"
   ]
  },
  {
   "cell_type": "code",
   "execution_count": 8,
   "metadata": {},
   "outputs": [],
   "source": [
    "# x_ar.shape\n",
    "# x_ar.ndim\n",
    "# x_ar"
   ]
  },
  {
   "cell_type": "code",
   "execution_count": 9,
   "metadata": {},
   "outputs": [],
   "source": [
    "# data = x_ar\n",
    "# len(data.shape)"
   ]
  },
  {
   "cell_type": "markdown",
   "metadata": {},
   "source": [
    "## Optimizer"
   ]
  },
  {
   "cell_type": "code",
   "execution_count": 10,
   "metadata": {},
   "outputs": [
    {
     "name": "stdout",
     "output_type": "stream",
     "text": [
      "LinearRegression()\n"
     ]
    }
   ],
   "source": [
    "regr = linear_model.LinearRegression()\n",
    "tree=DecisionTreeRegressor(max_depth=5,random_state=1)\n",
    "print(regr)"
   ]
  },
  {
   "cell_type": "code",
   "execution_count": 11,
   "metadata": {},
   "outputs": [],
   "source": [
    "def fitness(X, *args): \n",
    "    if X[0] < 5:\n",
    "        return 7\n",
    "    else:\n",
    "        return -1.0/X[0]+ X[1]\n",
    "bounds=[(-5,100), (-50, 50)]"
   ]
  },
  {
   "cell_type": "code",
   "execution_count": 12,
   "metadata": {},
   "outputs": [],
   "source": [
    "res = minimize(fitness, np.array([1.0, 5.0]), bounds=bounds, method='L-BFGS-B')"
   ]
  },
  {
   "cell_type": "code",
   "execution_count": 13,
   "metadata": {},
   "outputs": [
    {
     "name": "stdout",
     "output_type": "stream",
     "text": [
      "      fun: 7\n",
      " hess_inv: <2x2 LbfgsInvHessProduct with dtype=float64>\n",
      "      jac: array([0., 0.])\n",
      "  message: 'CONVERGENCE: NORM_OF_PROJECTED_GRADIENT_<=_PGTOL'\n",
      "     nfev: 3\n",
      "      nit: 0\n",
      "     njev: 1\n",
      "   status: 0\n",
      "  success: True\n",
      "        x: array([1., 5.])\n"
     ]
    }
   ],
   "source": [
    "print (str(res))\n"
   ]
  },
  {
   "cell_type": "code",
   "execution_count": 14,
   "metadata": {},
   "outputs": [
    {
     "data": {
      "text/plain": [
       "[[-17.2]]"
      ]
     },
     "execution_count": 14,
     "metadata": {},
     "output_type": "execute_result"
    }
   ],
   "source": [
    "x_train, x_test, y_train, y_test = train_test_split(x_ar, y_ar, test_size=0.3, random_state=None)\n",
    "\n",
    "regression=regr.fit(x_train, y_train)\n",
    "\n",
    "regression.predict([[1.0, 2.0]])\n",
    "\n",
    "[[-17.2]]"
   ]
  },
  {
   "cell_type": "code",
   "execution_count": 15,
   "metadata": {},
   "outputs": [
    {
     "name": "stdout",
     "output_type": "stream",
     "text": [
      "[3.92 2.66]\n",
      "[(1.96, 3.92), (3.2, 3.25)]\n",
      "      fun: 1.3356515893292453e-09\n",
      " hess_inv: <2x2 LbfgsInvHessProduct with dtype=float64>\n",
      "      jac: array([ 5.95210942, -6.78447464])\n",
      "  message: 'CONVERGENCE: REL_REDUCTION_OF_F_<=_FACTR*EPSMCH'\n",
      "     nfev: 141\n",
      "      nit: 5\n",
      "     njev: 47\n",
      "   status: 0\n",
      "  success: True\n",
      "        x: array([2.97176976, 3.22395355])\n"
     ]
    }
   ],
   "source": [
    "initialParameterValues = x_ar[0]\n",
    "print(initialParameterValues)\n",
    "# bounds = [(np.min(x_ar[:, 0]), np.max(x_ar[:, 0])), (np.min(x_ar[:, 1]), np.max(x_ar[:, 1]))]\n",
    "bounds = [(np.min(x_ar[:, 0]), np.max(x_ar[:, 0])), (3.2, 3.25 )]\n",
    "print(str(bounds))\n",
    "\n",
    "# regression.predict([initialParameterValues])\n",
    "def fitness(PARAMS, *args):\n",
    "    floatResult = regression.predict([PARAMS])[0][0]\n",
    "    # print(floatResult)\n",
    "    # floatResult=floatResult[0]\n",
    "    return abs(floatResult - -12.0)\n",
    "\n",
    "res = minimize(fitness, initialParameterValues, bounds=bounds, method='L-BFGS-B', tol=1e-6, options={'eps':1e-10, \n",
    "                                                                                'maxiter': 100,\n",
    "                                                                                })\n",
    "# res = minimize(fitness, initialParameterValues, bounds=bounds, method='L-BFGS-B', tol=1e-4)\n",
    "print(str(res))"
   ]
  },
  {
   "cell_type": "code",
   "execution_count": null,
   "metadata": {},
   "outputs": [],
   "source": []
  },
  {
   "cell_type": "markdown",
   "metadata": {},
   "source": [
    "## Add more descriptors"
   ]
  },
  {
   "cell_type": "code",
   "execution_count": 57,
   "metadata": {},
   "outputs": [],
   "source": [
    "# x_ar = np.array(df2[['aperture', 'diameter']])\n",
    "# x_ar = np.asanyarray(df2[['aperture', 'diameter', 'ionicRad', 'linker_length1', 'linker_length2',\n",
    "#        'linker_length3', 'linker_mass1', 'linker_mass2', 'linker_mass3',\n",
    "#        'func1_length', 'func2_length', 'func3_length', 'func1_mass',\n",
    "#        'func2_mass', 'func3_mass','e' ]])\n",
    "\n",
    "x_ar = np.asanyarray(df2[['aperture', 'diameter', 'linker_length1', 'linker_length2', 'linker_length3']])\n",
    "\n",
    "y_ar = np.array(df2[['logD']])"
   ]
  },
  {
   "cell_type": "code",
   "execution_count": 58,
   "metadata": {},
   "outputs": [],
   "source": [
    "x_train, x_test, y_train, y_test = train_test_split(x_ar, y_ar, test_size=0.3, random_state=None)\n",
    "regression=regr.fit(x_train, y_train)"
   ]
  },
  {
   "cell_type": "code",
   "execution_count": 59,
   "metadata": {},
   "outputs": [
    {
     "name": "stdout",
     "output_type": "stream",
     "text": [
      "[3.92  2.66  4.438 4.438 4.438]\n",
      "[(1.96, 3.92), (3.2, 3.25), (3.66, 6.41), (3.66, 6.41), (3.66, 6.41)]\n",
      "      fun: 2.0028098290936214e-08\n",
      " hess_inv: <5x5 LbfgsInvHessProduct with dtype=float64>\n",
      "      jac: array([ 1.9285377 ,  6.96389013,  0.07950067,  0.07950067, -0.35561918])\n",
      "  message: 'ABNORMAL_TERMINATION_IN_LNSRCH'\n",
      "     nfev: 312\n",
      "      nit: 4\n",
      "     njev: 52\n",
      "   status: 2\n",
      "  success: False\n",
      "        x: array([3.1763747 , 3.21897003, 4.46872883, 4.46872883, 4.30054481])\n"
     ]
    }
   ],
   "source": [
    "initialParameterValues = x_ar[0]\n",
    "print(initialParameterValues)\n",
    "# bounds = [(np.min(x_ar[:, 0]), np.max(x_ar[:, 0])), (np.min(x_ar[:, 1]), np.max(x_ar[:, 1]))]\n",
    "bounds = [(np.min(x_ar[:, 0]), np.max(x_ar[:, 0])), \n",
    "          (3.2, 3.25),\n",
    "         (np.min(x_ar[:, 2]), np.max(x_ar[:, 2])),\n",
    "         (np.min(x_ar[:, 2]), np.max(x_ar[:, 3])),\n",
    "         (np.min(x_ar[:, 2]), np.max(x_ar[:, 4]))]\n",
    "\n",
    "print(str(bounds))\n",
    "\n",
    "regression.predict([initialParameterValues])\n",
    "def fitness(PARAMS, *args):\n",
    "#     floatResult = regression.predict([PARAMS])[0][0]\n",
    "    floatResult = regression.predict([PARAMS])[0][0]\n",
    "    return abs(floatResult - -11.0)\n",
    "\n",
    "res = minimize(fitness, initialParameterValues, bounds=bounds, method='L-BFGS-B')\n",
    "print(str(res))"
   ]
  },
  {
   "cell_type": "code",
   "execution_count": 60,
   "metadata": {},
   "outputs": [
    {
     "name": "stdout",
     "output_type": "stream",
     "text": [
      "[(1.96, 3.92), (3.2, 3.25), (3.66, 6.41), (3.66, 6.41), (3.66, 6.41)]\n"
     ]
    }
   ],
   "source": [
    "print(str(bounds))"
   ]
  },
  {
   "cell_type": "code",
   "execution_count": 61,
   "metadata": {},
   "outputs": [
    {
     "data": {
      "text/plain": [
       "array([3.92 , 2.66 , 4.438, 4.438, 4.438])"
      ]
     },
     "execution_count": 61,
     "metadata": {},
     "output_type": "execute_result"
    }
   ],
   "source": [
    "x_ar[0]"
   ]
  },
  {
   "cell_type": "code",
   "execution_count": 62,
   "metadata": {},
   "outputs": [],
   "source": [
    "# df2[['aperture', 'diameter', 'linker_length1', 'linker_mass2', 'linker_mass3']]"
   ]
  },
  {
   "cell_type": "markdown",
   "metadata": {},
   "source": [
    "## Decision Tree Regressor"
   ]
  },
  {
   "cell_type": "code",
   "execution_count": 63,
   "metadata": {},
   "outputs": [],
   "source": [
    "x_ar = np.array(df2[['aperture', 'diameter']])\n",
    "# x_ar = np.asanyarray(df2[['aperture', 'diameter', 'ionicRad', 'linker_length1', 'linker_length2',\n",
    "#        'linker_length3', 'linker_mass1', 'linker_mass2', 'linker_mass3',\n",
    "#        'func1_length', 'func2_length', 'func3_length', 'func1_mass',\n",
    "#        'func2_mass', 'func3_mass','e' ]])\n",
    "\n",
    "# x_ar = np.asanyarray(df2[['aperture', 'diameter', 'linker_length1', 'linker_length2', 'linker_length3']])\n",
    "\n",
    "y_ar = np.array(df2[['logD']])"
   ]
  },
  {
   "cell_type": "code",
   "execution_count": 64,
   "metadata": {},
   "outputs": [],
   "source": [
    "x_train, x_test, y_train, y_test = train_test_split(x_ar, y_ar, test_size=0.3, random_state=None)\n",
    "regression=tree.fit(x_train, y_train)"
   ]
  },
  {
   "cell_type": "code",
   "execution_count": 71,
   "metadata": {},
   "outputs": [
    {
     "name": "stdout",
     "output_type": "stream",
     "text": [
      "[3.92 2.66]\n",
      "[(1.96, 3.92), (3.2, 3.25)]\n",
      "-8.441307735295183\n",
      "-8.441307735295183\n",
      "-8.441307735295183\n",
      "      fun: 3.558692264704817\n",
      " hess_inv: <2x2 LbfgsInvHessProduct with dtype=float64>\n",
      "      jac: array([-0.,  0.])\n",
      "  message: 'CONVERGENCE: NORM_OF_PROJECTED_GRADIENT_<=_PGTOL'\n",
      "     nfev: 3\n",
      "      nit: 0\n",
      "     njev: 1\n",
      "   status: 0\n",
      "  success: True\n",
      "        x: array([3.92, 3.2 ])\n"
     ]
    }
   ],
   "source": [
    "initialParameterValues = x_ar[0]\n",
    "print(initialParameterValues)\n",
    "# bounds = [(np.min(x_ar[:, 0]), np.max(x_ar[:, 0])), (np.min(x_ar[:, 1]), np.max(x_ar[:, 1]))]\n",
    "\n",
    "bounds = [(np.min(x_ar[:, 0]), np.max(x_ar[:, 0])), (3.2, 3.25 )]\n",
    "\n",
    "print(str(bounds))\n",
    "\n",
    "# regression.predict([initialParameterValues])\n",
    "def fitness(PARAMS, *args):\n",
    "    floatResult = regression.predict([PARAMS])[0]\n",
    "    print(floatResult)\n",
    "    return abs(floatResult - -12.0)\n",
    "\n",
    "res = minimize(fitness, initialParameterValues, bounds=bounds, method='L-BFGS-B', tol=1e-8, options={'eps':1e-10, \n",
    "                                                                                'maxiter': 100,\n",
    "                                                                                })\n",
    "\n",
    "# res = minimize(fitness, initialParameterValues, method='TNC', bounds=bounds)\n",
    "\n",
    "# res = minimize(fitness, initialParameterValues, bounds=bounds, method='L-BFGS-B', tol=1e-4)\n",
    "print(str(res))"
   ]
  },
  {
   "cell_type": "markdown",
   "metadata": {},
   "source": [
    "## Decision Tree - more descriptors"
   ]
  },
  {
   "cell_type": "code",
   "execution_count": 517,
   "metadata": {},
   "outputs": [],
   "source": [
    "# x_ar = np.array(df2[['aperture', 'diameter']])\n",
    "# x_ar = np.asanyarray(df2[['aperture', 'diameter', 'ionicRad', 'linker_length1', 'linker_length2',\n",
    "#        'linker_length3', 'linker_mass1', 'linker_mass2', 'linker_mass3',\n",
    "#        'func1_length', 'func2_length', 'func3_length', 'func1_mass',\n",
    "#        'func2_mass', 'func3_mass','e' ]])\n",
    "\n",
    "x_ar = np.asanyarray(df2[['aperture', 'diameter', 'linker_length1', 'linker_length2', 'linker_length3']])\n",
    "\n",
    "y_ar = np.array(df2[['logD']])"
   ]
  },
  {
   "cell_type": "code",
   "execution_count": 518,
   "metadata": {},
   "outputs": [],
   "source": [
    "x_train, x_test, y_train, y_test = train_test_split(x_ar, y_ar, test_size=0.3, random_state=None)\n",
    "regression=tree.fit(x_train, y_train)"
   ]
  },
  {
   "cell_type": "code",
   "execution_count": 519,
   "metadata": {},
   "outputs": [
    {
     "name": "stdout",
     "output_type": "stream",
     "text": [
      "[3.92  2.66  4.438 4.438 4.438]\n",
      "[(1.96, 3.92), (3.2, 4.25), (3.66, 6.41), (3.66, 6.41), (3.66, 6.41)]\n",
      "      fun: 7.4926125506947\n",
      " hess_inv: <5x5 LbfgsInvHessProduct with dtype=float64>\n",
      "      jac: array([-0.,  0.,  0.,  0.,  0.])\n",
      "  message: 'CONVERGENCE: NORM_OF_PROJECTED_GRADIENT_<=_PGTOL'\n",
      "     nfev: 6\n",
      "      nit: 0\n",
      "     njev: 1\n",
      "   status: 0\n",
      "  success: True\n",
      "        x: array([3.92 , 3.2  , 4.438, 4.438, 4.438])\n"
     ]
    }
   ],
   "source": [
    "initialParameterValues = x_ar[0]\n",
    "print(initialParameterValues)\n",
    "# bounds = [(np.min(x_ar[:, 0]), np.max(x_ar[:, 0])), (np.min(x_ar[:, 1]), np.max(x_ar[:, 1]))]\n",
    "bounds = [(np.min(x_ar[:, 0]), np.max(x_ar[:, 0])), \n",
    "          (3.2, 4.25),\n",
    "         (np.min(x_ar[:, 2]), np.max(x_ar[:, 2])),\n",
    "         (np.min(x_ar[:, 2]), np.max(x_ar[:, 3])),\n",
    "         (np.min(x_ar[:, 2]), np.max(x_ar[:, 4]))]\n",
    "\n",
    "print(str(bounds))\n",
    "\n",
    "regression.predict([initialParameterValues])\n",
    "def fitness(PARAMS, *args):\n",
    "#     floatResult = regression.predict([PARAMS])[0][0]\n",
    "    floatResult = tree.predict([PARAMS])[0]\n",
    "    return abs(floatResult - -16.0)\n",
    "\n",
    "res = minimize(fitness, initialParameterValues, bounds=bounds, method='L-BFGS-B', tol=1e-9, options={'eps':1e-12, \n",
    "                                                                                'maxiter': 15500,\n",
    "                                                                                })\n",
    "print(str(res))"
   ]
  },
  {
   "cell_type": "code",
   "execution_count": null,
   "metadata": {},
   "outputs": [],
   "source": []
  }
 ],
 "metadata": {
  "kernelspec": {
   "display_name": "Python 3 (ipykernel)",
   "language": "python",
   "name": "python3"
  },
  "language_info": {
   "codemirror_mode": {
    "name": "ipython",
    "version": 3
   },
   "file_extension": ".py",
   "mimetype": "text/x-python",
   "name": "python",
   "nbconvert_exporter": "python",
   "pygments_lexer": "ipython3",
   "version": "3.8.12"
  }
 },
 "nbformat": 4,
 "nbformat_minor": 4
}
