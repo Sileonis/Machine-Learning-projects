{
 "cells": [
  {
   "cell_type": "code",
   "execution_count": 2,
   "metadata": {},
   "outputs": [],
   "source": [
    "import pandas as pd\n",
    "import seaborn as sns\n",
    "import numpy as np\n",
    "from scipy.optimize import minimize\n",
    "from scipy.optimize import minimize_scalar\n",
    "%matplotlib inline\n",
    "import matplotlib.pyplot as plt\n",
    "\n",
    "#import models\n",
    "from sklearn.linear_model import LinearRegression\n",
    "from sklearn.neural_network import MLPRegressor\n",
    "from sklearn.tree import DecisionTreeRegressor\n",
    "from sklearn import linear_model\n",
    "from sklearn.ensemble import RandomForestRegressor\n",
    "from sklearn.ensemble import GradientBoostingRegressor\n",
    "#from xgboost import XGBRegressor\n",
    "\n",
    "from sklearn import model_selection\n",
    "from sklearn.metrics import explained_variance_score\n",
    "# from sklearn.metrics import mean_absolute_percentage_error\n",
    "from sklearn.metrics import mean_squared_error\n",
    "from tabulate import _table_formats, tabulate\n",
    "from sklearn.model_selection import RepeatedKFold\n",
    "from sklearn.model_selection import train_test_split\n",
    "from sklearn.model_selection import KFold\n",
    "import pygad\n",
    "\n",
    "from sklearn import metrics"
   ]
  },
  {
   "cell_type": "code",
   "execution_count": 5,
   "metadata": {},
   "outputs": [],
   "source": [
    "datas = '../MyData.xlsx'\n",
    "# datas = '/Users/pkrok/OneDrive/Python/Giannakopoulos/MyData.xlsx'\n",
    "# datas = '/Users/panagiotiskrokidas/OneDrive/Python/Giannakopoulos/MyData.xlsx'"
   ]
  },
  {
   "cell_type": "code",
   "execution_count": 6,
   "metadata": {},
   "outputs": [
    {
     "data": {
      "text/plain": [
       "61"
      ]
     },
     "execution_count": 6,
     "metadata": {},
     "output_type": "execute_result"
    }
   ],
   "source": [
    "pd.set_option(\"display.max_columns\", None)\n",
    "df=pd.read_excel(datas)\n",
    "df.head(2)\n",
    "df['logD'] = np.log10(df['diffusivity'])\n",
    "# df = df.dropna()\n",
    "# df[df.gas == 'propylene']['logD'].max()\n",
    "df[df.gas == 'H2']['logD'].count()"
   ]
  },
  {
   "cell_type": "code",
   "execution_count": null,
   "metadata": {},
   "outputs": [],
   "source": []
  },
  {
   "cell_type": "markdown",
   "metadata": {},
   "source": [
    "# Keep only the columns I need"
   ]
  },
  {
   "cell_type": "code",
   "execution_count": 7,
   "metadata": {},
   "outputs": [],
   "source": [
    "# df2=df[[ 'aperture', 'size - van der Waals (Å)','mass', 'ascentricF', 'logD', 'size - kinetic diameter (Å)', 'gas', 'apertureAtom_e', 'ionicRad']]\n",
    "df2=df[[ 'aperture', 'size - van der Waals (Å)','mass', 'ascentricF', 'logD', 'size - kinetic diameter (Å)', 'ionicRad', \n",
    "       'Μ-N_lff', 'Μ-N_kFF', 'ionicRad', 'MetalCharge',\n",
    "       'apertureAtom_σ', 'apertureAtom_e', 'linker_length1', 'linker_length2',\n",
    "       'linker_length3', 'linker_mass1', 'linker_mass2', 'linker_mass3',\n",
    "       'func1_length', 'func2_length', 'func3_length', 'func1_mass',  \n",
    "       'func2_mass', 'func3_mass', 'func1_charge', 'func2_charge',\n",
    "       'func3_charge',]]"
   ]
  },
  {
   "cell_type": "code",
   "execution_count": null,
   "metadata": {},
   "outputs": [],
   "source": []
  },
  {
   "cell_type": "code",
   "execution_count": 8,
   "metadata": {},
   "outputs": [],
   "source": [
    "df2=df2.rename(columns={'size - van der Waals (Å)':'diameter', 'size - kinetic diameter (Å)':'kdiameter', 'apertureAtom_e':'e' })"
   ]
  },
  {
   "cell_type": "markdown",
   "metadata": {},
   "source": [
    "\n"
   ]
  },
  {
   "cell_type": "code",
   "execution_count": 9,
   "metadata": {},
   "outputs": [
    {
     "data": {
      "text/html": [
       "<div>\n",
       "<style scoped>\n",
       "    .dataframe tbody tr th:only-of-type {\n",
       "        vertical-align: middle;\n",
       "    }\n",
       "\n",
       "    .dataframe tbody tr th {\n",
       "        vertical-align: top;\n",
       "    }\n",
       "\n",
       "    .dataframe thead th {\n",
       "        text-align: right;\n",
       "    }\n",
       "</style>\n",
       "<table border=\"1\" class=\"dataframe\">\n",
       "  <thead>\n",
       "    <tr style=\"text-align: right;\">\n",
       "      <th></th>\n",
       "      <th>aperture</th>\n",
       "      <th>diameter</th>\n",
       "      <th>mass</th>\n",
       "      <th>ascentricF</th>\n",
       "      <th>logD</th>\n",
       "      <th>kdiameter</th>\n",
       "      <th>ionicRad</th>\n",
       "      <th>Μ-N_lff</th>\n",
       "      <th>Μ-N_kFF</th>\n",
       "      <th>ionicRad</th>\n",
       "      <th>MetalCharge</th>\n",
       "      <th>apertureAtom_σ</th>\n",
       "      <th>e</th>\n",
       "      <th>linker_length1</th>\n",
       "      <th>linker_length2</th>\n",
       "      <th>linker_length3</th>\n",
       "      <th>linker_mass1</th>\n",
       "      <th>linker_mass2</th>\n",
       "      <th>linker_mass3</th>\n",
       "      <th>func1_length</th>\n",
       "      <th>func2_length</th>\n",
       "      <th>func3_length</th>\n",
       "      <th>func1_mass</th>\n",
       "      <th>func2_mass</th>\n",
       "      <th>func3_mass</th>\n",
       "      <th>func1_charge</th>\n",
       "      <th>func2_charge</th>\n",
       "      <th>func3_charge</th>\n",
       "    </tr>\n",
       "  </thead>\n",
       "  <tbody>\n",
       "    <tr>\n",
       "      <th>0</th>\n",
       "      <td>3.92</td>\n",
       "      <td>2.66</td>\n",
       "      <td>4.002</td>\n",
       "      <td>-0.390</td>\n",
       "      <td>-7.221849</td>\n",
       "      <td>2.60</td>\n",
       "      <td>92</td>\n",
       "      <td>2.257</td>\n",
       "      <td>45354.60</td>\n",
       "      <td>92</td>\n",
       "      <td>1.1901</td>\n",
       "      <td>0.25</td>\n",
       "      <td>0.0627</td>\n",
       "      <td>4.438</td>\n",
       "      <td>4.438</td>\n",
       "      <td>4.438</td>\n",
       "      <td>81.000</td>\n",
       "      <td>81.000</td>\n",
       "      <td>81.000</td>\n",
       "      <td>3.78</td>\n",
       "      <td>3.78</td>\n",
       "      <td>3.78</td>\n",
       "      <td>15.0</td>\n",
       "      <td>15.0</td>\n",
       "      <td>15.0</td>\n",
       "      <td>-0.1001</td>\n",
       "      <td>-0.1001</td>\n",
       "      <td>-0.1001</td>\n",
       "    </tr>\n",
       "    <tr>\n",
       "      <th>1</th>\n",
       "      <td>3.92</td>\n",
       "      <td>2.76</td>\n",
       "      <td>2.010</td>\n",
       "      <td>-0.217</td>\n",
       "      <td>-7.301030</td>\n",
       "      <td>2.89</td>\n",
       "      <td>92</td>\n",
       "      <td>2.257</td>\n",
       "      <td>45354.60</td>\n",
       "      <td>92</td>\n",
       "      <td>1.1901</td>\n",
       "      <td>0.25</td>\n",
       "      <td>0.0627</td>\n",
       "      <td>4.438</td>\n",
       "      <td>4.438</td>\n",
       "      <td>4.438</td>\n",
       "      <td>81.000</td>\n",
       "      <td>81.000</td>\n",
       "      <td>81.000</td>\n",
       "      <td>3.78</td>\n",
       "      <td>3.78</td>\n",
       "      <td>3.78</td>\n",
       "      <td>15.0</td>\n",
       "      <td>15.0</td>\n",
       "      <td>15.0</td>\n",
       "      <td>-0.1001</td>\n",
       "      <td>-0.1001</td>\n",
       "      <td>-0.1001</td>\n",
       "    </tr>\n",
       "    <tr>\n",
       "      <th>2</th>\n",
       "      <td>3.92</td>\n",
       "      <td>2.94</td>\n",
       "      <td>31.999</td>\n",
       "      <td>0.022</td>\n",
       "      <td>-8.000000</td>\n",
       "      <td>3.46</td>\n",
       "      <td>92</td>\n",
       "      <td>2.257</td>\n",
       "      <td>45354.60</td>\n",
       "      <td>92</td>\n",
       "      <td>1.1901</td>\n",
       "      <td>0.25</td>\n",
       "      <td>0.0627</td>\n",
       "      <td>4.438</td>\n",
       "      <td>4.438</td>\n",
       "      <td>4.438</td>\n",
       "      <td>81.000</td>\n",
       "      <td>81.000</td>\n",
       "      <td>81.000</td>\n",
       "      <td>3.78</td>\n",
       "      <td>3.78</td>\n",
       "      <td>3.78</td>\n",
       "      <td>15.0</td>\n",
       "      <td>15.0</td>\n",
       "      <td>15.0</td>\n",
       "      <td>-0.1001</td>\n",
       "      <td>-0.1001</td>\n",
       "      <td>-0.1001</td>\n",
       "    </tr>\n",
       "    <tr>\n",
       "      <th>3</th>\n",
       "      <td>3.92</td>\n",
       "      <td>3.24</td>\n",
       "      <td>44.010</td>\n",
       "      <td>0.225</td>\n",
       "      <td>-8.397940</td>\n",
       "      <td>3.30</td>\n",
       "      <td>92</td>\n",
       "      <td>2.257</td>\n",
       "      <td>45354.60</td>\n",
       "      <td>92</td>\n",
       "      <td>1.1901</td>\n",
       "      <td>0.25</td>\n",
       "      <td>0.0627</td>\n",
       "      <td>4.438</td>\n",
       "      <td>4.438</td>\n",
       "      <td>4.438</td>\n",
       "      <td>81.000</td>\n",
       "      <td>81.000</td>\n",
       "      <td>81.000</td>\n",
       "      <td>3.78</td>\n",
       "      <td>3.78</td>\n",
       "      <td>3.78</td>\n",
       "      <td>15.0</td>\n",
       "      <td>15.0</td>\n",
       "      <td>15.0</td>\n",
       "      <td>-0.1001</td>\n",
       "      <td>-0.1001</td>\n",
       "      <td>-0.1001</td>\n",
       "    </tr>\n",
       "    <tr>\n",
       "      <th>4</th>\n",
       "      <td>3.92</td>\n",
       "      <td>3.13</td>\n",
       "      <td>28.000</td>\n",
       "      <td>0.037</td>\n",
       "      <td>-8.301030</td>\n",
       "      <td>3.64</td>\n",
       "      <td>92</td>\n",
       "      <td>2.257</td>\n",
       "      <td>45354.60</td>\n",
       "      <td>92</td>\n",
       "      <td>1.1901</td>\n",
       "      <td>0.25</td>\n",
       "      <td>0.0627</td>\n",
       "      <td>4.438</td>\n",
       "      <td>4.438</td>\n",
       "      <td>4.438</td>\n",
       "      <td>81.000</td>\n",
       "      <td>81.000</td>\n",
       "      <td>81.000</td>\n",
       "      <td>3.78</td>\n",
       "      <td>3.78</td>\n",
       "      <td>3.78</td>\n",
       "      <td>15.0</td>\n",
       "      <td>15.0</td>\n",
       "      <td>15.0</td>\n",
       "      <td>-0.1001</td>\n",
       "      <td>-0.1001</td>\n",
       "      <td>-0.1001</td>\n",
       "    </tr>\n",
       "    <tr>\n",
       "      <th>...</th>\n",
       "      <td>...</td>\n",
       "      <td>...</td>\n",
       "      <td>...</td>\n",
       "      <td>...</td>\n",
       "      <td>...</td>\n",
       "      <td>...</td>\n",
       "      <td>...</td>\n",
       "      <td>...</td>\n",
       "      <td>...</td>\n",
       "      <td>...</td>\n",
       "      <td>...</td>\n",
       "      <td>...</td>\n",
       "      <td>...</td>\n",
       "      <td>...</td>\n",
       "      <td>...</td>\n",
       "      <td>...</td>\n",
       "      <td>...</td>\n",
       "      <td>...</td>\n",
       "      <td>...</td>\n",
       "      <td>...</td>\n",
       "      <td>...</td>\n",
       "      <td>...</td>\n",
       "      <td>...</td>\n",
       "      <td>...</td>\n",
       "      <td>...</td>\n",
       "      <td>...</td>\n",
       "      <td>...</td>\n",
       "      <td>...</td>\n",
       "    </tr>\n",
       "    <tr>\n",
       "      <th>590</th>\n",
       "      <td>2.95</td>\n",
       "      <td>2.76</td>\n",
       "      <td>2.010</td>\n",
       "      <td>-0.217</td>\n",
       "      <td>-7.455932</td>\n",
       "      <td>2.89</td>\n",
       "      <td>71</td>\n",
       "      <td>2.139</td>\n",
       "      <td>38994.88</td>\n",
       "      <td>71</td>\n",
       "      <td>1.9871</td>\n",
       "      <td>0.34</td>\n",
       "      <td>1.2552</td>\n",
       "      <td>6.410</td>\n",
       "      <td>6.410</td>\n",
       "      <td>6.410</td>\n",
       "      <td>134.906</td>\n",
       "      <td>134.906</td>\n",
       "      <td>134.906</td>\n",
       "      <td>3.78</td>\n",
       "      <td>3.78</td>\n",
       "      <td>3.78</td>\n",
       "      <td>15.0</td>\n",
       "      <td>15.0</td>\n",
       "      <td>15.0</td>\n",
       "      <td>-0.2710</td>\n",
       "      <td>-0.2710</td>\n",
       "      <td>-0.2710</td>\n",
       "    </tr>\n",
       "    <tr>\n",
       "      <th>591</th>\n",
       "      <td>2.95</td>\n",
       "      <td>2.94</td>\n",
       "      <td>31.999</td>\n",
       "      <td>0.022</td>\n",
       "      <td>-9.180456</td>\n",
       "      <td>3.46</td>\n",
       "      <td>71</td>\n",
       "      <td>2.139</td>\n",
       "      <td>38994.88</td>\n",
       "      <td>71</td>\n",
       "      <td>1.9871</td>\n",
       "      <td>0.34</td>\n",
       "      <td>1.2552</td>\n",
       "      <td>6.410</td>\n",
       "      <td>6.410</td>\n",
       "      <td>6.410</td>\n",
       "      <td>134.906</td>\n",
       "      <td>134.906</td>\n",
       "      <td>134.906</td>\n",
       "      <td>3.78</td>\n",
       "      <td>3.78</td>\n",
       "      <td>3.78</td>\n",
       "      <td>15.0</td>\n",
       "      <td>15.0</td>\n",
       "      <td>15.0</td>\n",
       "      <td>-0.2710</td>\n",
       "      <td>-0.2710</td>\n",
       "      <td>-0.2710</td>\n",
       "    </tr>\n",
       "    <tr>\n",
       "      <th>592</th>\n",
       "      <td>2.95</td>\n",
       "      <td>3.24</td>\n",
       "      <td>44.010</td>\n",
       "      <td>0.225</td>\n",
       "      <td>-9.096910</td>\n",
       "      <td>3.30</td>\n",
       "      <td>71</td>\n",
       "      <td>2.139</td>\n",
       "      <td>38994.88</td>\n",
       "      <td>71</td>\n",
       "      <td>1.9871</td>\n",
       "      <td>0.34</td>\n",
       "      <td>1.2552</td>\n",
       "      <td>6.410</td>\n",
       "      <td>6.410</td>\n",
       "      <td>6.410</td>\n",
       "      <td>134.906</td>\n",
       "      <td>134.906</td>\n",
       "      <td>134.906</td>\n",
       "      <td>3.78</td>\n",
       "      <td>3.78</td>\n",
       "      <td>3.78</td>\n",
       "      <td>15.0</td>\n",
       "      <td>15.0</td>\n",
       "      <td>15.0</td>\n",
       "      <td>-0.2710</td>\n",
       "      <td>-0.2710</td>\n",
       "      <td>-0.2710</td>\n",
       "    </tr>\n",
       "    <tr>\n",
       "      <th>593</th>\n",
       "      <td>2.95</td>\n",
       "      <td>3.13</td>\n",
       "      <td>28.000</td>\n",
       "      <td>0.037</td>\n",
       "      <td>-9.638272</td>\n",
       "      <td>3.64</td>\n",
       "      <td>71</td>\n",
       "      <td>2.139</td>\n",
       "      <td>38994.88</td>\n",
       "      <td>71</td>\n",
       "      <td>1.9871</td>\n",
       "      <td>0.34</td>\n",
       "      <td>1.2552</td>\n",
       "      <td>6.410</td>\n",
       "      <td>6.410</td>\n",
       "      <td>6.410</td>\n",
       "      <td>134.906</td>\n",
       "      <td>134.906</td>\n",
       "      <td>134.906</td>\n",
       "      <td>3.78</td>\n",
       "      <td>3.78</td>\n",
       "      <td>3.78</td>\n",
       "      <td>15.0</td>\n",
       "      <td>15.0</td>\n",
       "      <td>15.0</td>\n",
       "      <td>-0.2710</td>\n",
       "      <td>-0.2710</td>\n",
       "      <td>-0.2710</td>\n",
       "    </tr>\n",
       "    <tr>\n",
       "      <th>594</th>\n",
       "      <td>2.95</td>\n",
       "      <td>3.25</td>\n",
       "      <td>16.040</td>\n",
       "      <td>0.011</td>\n",
       "      <td>-11.522879</td>\n",
       "      <td>3.80</td>\n",
       "      <td>71</td>\n",
       "      <td>2.139</td>\n",
       "      <td>38994.88</td>\n",
       "      <td>71</td>\n",
       "      <td>1.9871</td>\n",
       "      <td>0.34</td>\n",
       "      <td>1.2552</td>\n",
       "      <td>6.410</td>\n",
       "      <td>6.410</td>\n",
       "      <td>6.410</td>\n",
       "      <td>134.906</td>\n",
       "      <td>134.906</td>\n",
       "      <td>134.906</td>\n",
       "      <td>3.78</td>\n",
       "      <td>3.78</td>\n",
       "      <td>3.78</td>\n",
       "      <td>15.0</td>\n",
       "      <td>15.0</td>\n",
       "      <td>15.0</td>\n",
       "      <td>-0.2710</td>\n",
       "      <td>-0.2710</td>\n",
       "      <td>-0.2710</td>\n",
       "    </tr>\n",
       "  </tbody>\n",
       "</table>\n",
       "<p>595 rows × 28 columns</p>\n",
       "</div>"
      ],
      "text/plain": [
       "     aperture  diameter    mass  ascentricF       logD  kdiameter  ionicRad  \\\n",
       "0        3.92      2.66   4.002      -0.390  -7.221849       2.60        92   \n",
       "1        3.92      2.76   2.010      -0.217  -7.301030       2.89        92   \n",
       "2        3.92      2.94  31.999       0.022  -8.000000       3.46        92   \n",
       "3        3.92      3.24  44.010       0.225  -8.397940       3.30        92   \n",
       "4        3.92      3.13  28.000       0.037  -8.301030       3.64        92   \n",
       "..        ...       ...     ...         ...        ...        ...       ...   \n",
       "590      2.95      2.76   2.010      -0.217  -7.455932       2.89        71   \n",
       "591      2.95      2.94  31.999       0.022  -9.180456       3.46        71   \n",
       "592      2.95      3.24  44.010       0.225  -9.096910       3.30        71   \n",
       "593      2.95      3.13  28.000       0.037  -9.638272       3.64        71   \n",
       "594      2.95      3.25  16.040       0.011 -11.522879       3.80        71   \n",
       "\n",
       "     Μ-N_lff   Μ-N_kFF  ionicRad  MetalCharge  apertureAtom_σ       e  \\\n",
       "0      2.257  45354.60        92       1.1901            0.25  0.0627   \n",
       "1      2.257  45354.60        92       1.1901            0.25  0.0627   \n",
       "2      2.257  45354.60        92       1.1901            0.25  0.0627   \n",
       "3      2.257  45354.60        92       1.1901            0.25  0.0627   \n",
       "4      2.257  45354.60        92       1.1901            0.25  0.0627   \n",
       "..       ...       ...       ...          ...             ...     ...   \n",
       "590    2.139  38994.88        71       1.9871            0.34  1.2552   \n",
       "591    2.139  38994.88        71       1.9871            0.34  1.2552   \n",
       "592    2.139  38994.88        71       1.9871            0.34  1.2552   \n",
       "593    2.139  38994.88        71       1.9871            0.34  1.2552   \n",
       "594    2.139  38994.88        71       1.9871            0.34  1.2552   \n",
       "\n",
       "     linker_length1  linker_length2  linker_length3  linker_mass1  \\\n",
       "0             4.438           4.438           4.438        81.000   \n",
       "1             4.438           4.438           4.438        81.000   \n",
       "2             4.438           4.438           4.438        81.000   \n",
       "3             4.438           4.438           4.438        81.000   \n",
       "4             4.438           4.438           4.438        81.000   \n",
       "..              ...             ...             ...           ...   \n",
       "590           6.410           6.410           6.410       134.906   \n",
       "591           6.410           6.410           6.410       134.906   \n",
       "592           6.410           6.410           6.410       134.906   \n",
       "593           6.410           6.410           6.410       134.906   \n",
       "594           6.410           6.410           6.410       134.906   \n",
       "\n",
       "     linker_mass2  linker_mass3  func1_length  func2_length  func3_length  \\\n",
       "0          81.000        81.000          3.78          3.78          3.78   \n",
       "1          81.000        81.000          3.78          3.78          3.78   \n",
       "2          81.000        81.000          3.78          3.78          3.78   \n",
       "3          81.000        81.000          3.78          3.78          3.78   \n",
       "4          81.000        81.000          3.78          3.78          3.78   \n",
       "..            ...           ...           ...           ...           ...   \n",
       "590       134.906       134.906          3.78          3.78          3.78   \n",
       "591       134.906       134.906          3.78          3.78          3.78   \n",
       "592       134.906       134.906          3.78          3.78          3.78   \n",
       "593       134.906       134.906          3.78          3.78          3.78   \n",
       "594       134.906       134.906          3.78          3.78          3.78   \n",
       "\n",
       "     func1_mass  func2_mass  func3_mass  func1_charge  func2_charge  \\\n",
       "0          15.0        15.0        15.0       -0.1001       -0.1001   \n",
       "1          15.0        15.0        15.0       -0.1001       -0.1001   \n",
       "2          15.0        15.0        15.0       -0.1001       -0.1001   \n",
       "3          15.0        15.0        15.0       -0.1001       -0.1001   \n",
       "4          15.0        15.0        15.0       -0.1001       -0.1001   \n",
       "..          ...         ...         ...           ...           ...   \n",
       "590        15.0        15.0        15.0       -0.2710       -0.2710   \n",
       "591        15.0        15.0        15.0       -0.2710       -0.2710   \n",
       "592        15.0        15.0        15.0       -0.2710       -0.2710   \n",
       "593        15.0        15.0        15.0       -0.2710       -0.2710   \n",
       "594        15.0        15.0        15.0       -0.2710       -0.2710   \n",
       "\n",
       "     func3_charge  \n",
       "0         -0.1001  \n",
       "1         -0.1001  \n",
       "2         -0.1001  \n",
       "3         -0.1001  \n",
       "4         -0.1001  \n",
       "..            ...  \n",
       "590       -0.2710  \n",
       "591       -0.2710  \n",
       "592       -0.2710  \n",
       "593       -0.2710  \n",
       "594       -0.2710  \n",
       "\n",
       "[595 rows x 28 columns]"
      ]
     },
     "execution_count": 9,
     "metadata": {},
     "output_type": "execute_result"
    }
   ],
   "source": [
    "df2 = df2.dropna()\n",
    "df2=df2.reset_index(drop=True)\n",
    "df2"
   ]
  },
  {
   "cell_type": "markdown",
   "metadata": {},
   "source": [
    "# Use only van der Waals"
   ]
  },
  {
   "cell_type": "code",
   "execution_count": 10,
   "metadata": {},
   "outputs": [],
   "source": [
    "x_ar = np.array(df2[['aperture', 'diameter']])\n",
    "# x_ar = np.asanyarray(df2[['aperture', 'diameter','mass', 'ascentricF', 'kdiameter', 'ionicRad']])\n",
    "y_ar = np.array(df2[['logD']])\n",
    "\n",
    "x1 = (df2[['aperture', 'diameter']])\n",
    "# x1 = (df2[['aperture']])\n",
    "y1 = (df2[['logD']])"
   ]
  },
  {
   "cell_type": "markdown",
   "metadata": {},
   "source": [
    "## ML models"
   ]
  },
  {
   "cell_type": "code",
   "execution_count": 11,
   "metadata": {},
   "outputs": [
    {
     "name": "stdout",
     "output_type": "stream",
     "text": [
      "LinearRegression()\n"
     ]
    }
   ],
   "source": [
    "regr = linear_model.LinearRegression()\n",
    "tree=DecisionTreeRegressor(max_depth=5,random_state=1)\n",
    "print(regr)"
   ]
  },
  {
   "cell_type": "code",
   "execution_count": 12,
   "metadata": {},
   "outputs": [
    {
     "data": {
      "text/plain": [
       "array([[3.92, 2.66],\n",
       "       [3.92, 2.76]])"
      ]
     },
     "execution_count": 12,
     "metadata": {},
     "output_type": "execute_result"
    }
   ],
   "source": [
    "x_train, x_test, y_train, y_test = train_test_split(x_ar, y_ar, test_size=0.3, random_state=None)\n",
    "\n",
    "regression=regr.fit(x_train, y_train)\n",
    "DT=tree.fit(x_train, y_train)\n",
    "\n",
    "DT.predict([[1.0, 2.0]])\n",
    "\n",
    "# list(np.arange(np.min(x_ar[:, 0]), np.max(x_ar[:, 0]), 0.1))\n",
    "x_ar[0:2]"
   ]
  },
  {
   "cell_type": "code",
   "execution_count": 13,
   "metadata": {},
   "outputs": [],
   "source": [
    "def fitness(solution, solution_idx):\n",
    "    floatResult = regression.predict([solution])[0]\n",
    "    # print(floatResult)\n",
    "    # floatResult=floatResult[0]\n",
    "    return 1.0 - (abs(floatResult - -12.0) + 10e-10)"
   ]
  },
  {
   "cell_type": "code",
   "execution_count": 14,
   "metadata": {},
   "outputs": [],
   "source": [
    "fitness_function = fitness\n",
    "\n",
    "num_generations = 2000\n",
    "num_parents_mating = 10\n",
    "\n",
    "# sol_per_pop = 20\n",
    "\n",
    "# num_genes = 30\n",
    "# mutation_num_genes=2\n",
    "# mutation_probability = 0.4 #if this parameter exists, then there is no need for the 2 parameters mutation_percent_genes and mutation_num_genes. \n",
    "mutation_probability = [0.8, 0.2]\n",
    "mutation_type = \"adaptive\" # random, swap, inversion, scramble, adaptive\n",
    "\n",
    "initial_population = x_ar[20:60]\n",
    "# initial_population = [[2.3, 3.2], [2.5, 3.3]]\n",
    "# gene_space = [[np.min(x_ar[:, 0]), np.max(x_ar[:, 0])], [3.2, 3.25]]\n",
    "# gene_space = [range(np.min(x_ar[:, 0]), np.max(x_ar[:, 0])) [3.2, 3.25]]\n",
    "# gene_space = [list(np.arange(np.min(x_ar[:, 0]), np.max(x_ar[:, 0]), 0.01)),[3.2, 3.25]]\n",
    "# gene_space = [list(np.arange(np.min(x_ar[:, 0]), np.max(x_ar[:, 0]), 0.01)), list(np.arange(3.2, 3.4, 0.1))]\n",
    "# gene_space = [[1.9, 2.0, 2.1, 2.2, 2.5, 2.8, 3.0], [3.2, 3.25]]\n",
    "\n",
    "gene_space = [{\"low\": 2.2, \"high\": 3.1, \"step\" : 0.05},\n",
    "              {\"low\": 3.2, \"high\": 3.5, \"step\" : 0.01}]\n",
    "\n",
    "parent_selection_type = \"tournament\" #  \"sss\", \"rws\", \"tournament\", \"rank\", \"random\"\n",
    "K_tournament = 10\n",
    "keep_parents = 4\n",
    "\n",
    "crossover_type = \"two_points\" # single_point, two-points, uniform, scattered\n",
    "crossover_probability = 0.7"
   ]
  },
  {
   "cell_type": "code",
   "execution_count": 15,
   "metadata": {},
   "outputs": [
    {
     "name": "stderr",
     "output_type": "stream",
     "text": [
      "/home/ggianna/anaconda3/lib/python3.8/site-packages/pygad/pygad.py:795: UserWarning: Use the 'save_solutions' parameter with caution as it may cause memory overflow when either the number of generations, number of genes, or number of solutions in population is large.\n",
      "  if not self.suppress_warnings: warnings.warn(\"Use the 'save_solutions' parameter with caution as it may cause memory overflow when either the number of generations, number of genes, or number of solutions in population is large.\")\n"
     ]
    }
   ],
   "source": [
    "ga_instance = pygad.GA(num_generations=num_generations,\n",
    "                       num_parents_mating=num_parents_mating,\n",
    "                       fitness_func=fitness_function,\n",
    "                       initial_population = initial_population, \n",
    "                       parent_selection_type=parent_selection_type,\n",
    "                       keep_parents=keep_parents,\n",
    "                       crossover_type=crossover_type,\n",
    "                       mutation_type=mutation_type,\n",
    "                       # mutation_num_genes = mutation_num_genes,\n",
    "                       gene_space = gene_space,\n",
    "                       # sol_per_pop = sol_per_pop,\n",
    "                       # num_genes = num_genes,\n",
    "                       crossover_probability = crossover_probability,\n",
    "                       mutation_probability = mutation_probability,\n",
    "                       K_tournament = K_tournament,\n",
    "                       allow_duplicate_genes=False,\n",
    "                       # stop_criteria = \"reach_100\",\n",
    "                       # stop_criteria=[\"reach_127.4\", \"saturate_160\"],\n",
    "                       save_solutions=True)"
   ]
  },
  {
   "cell_type": "code",
   "execution_count": 16,
   "metadata": {},
   "outputs": [],
   "source": [
    "ga_instance.run()"
   ]
  },
  {
   "cell_type": "code",
   "execution_count": 17,
   "metadata": {},
   "outputs": [
    {
     "name": "stdout",
     "output_type": "stream",
     "text": [
      "Parameters of the best solution : [3.   3.28]\n",
      "Fitness value of the best solution = [0.82130729]\n",
      "Predicted output based on the best solution : [-12.17869271]\n"
     ]
    }
   ],
   "source": [
    "solution, solution_fitness, solution_idx = ga_instance.best_solution()\n",
    "print(\"Parameters of the best solution : {solution}\".format(solution=solution))\n",
    "print(\"Fitness value of the best solution = {solution_fitness}\".format(solution_fitness=solution_fitness))\n",
    "\n",
    "prediction = regression.predict([solution])[0]\n",
    "print(\"Predicted output based on the best solution : {prediction}\".format(prediction=prediction))"
   ]
  },
  {
   "cell_type": "code",
   "execution_count": 81,
   "metadata": {},
   "outputs": [],
   "source": [
    "# regression.predict([[1.9, 3.2]])"
   ]
  },
  {
   "cell_type": "code",
   "execution_count": 18,
   "metadata": {
    "tags": []
   },
   "outputs": [
    {
     "data": {
      "image/png": "[encoded data removed]",
      "text/plain": [
       "<Figure size 432x288 with 1 Axes>"
      ]
     },
     "metadata": {
      "needs_background": "light"
     },
     "output_type": "display_data"
    },
    {
     "name": "stdout",
     "output_type": "stream",
     "text": [
      "Figure(432x288)\n"
     ]
    }
   ],
   "source": [
    "# ga_instance.plot_fitness()\n",
    "print(ga_instance.plot_fitness(plot_type=\"scatter\"))"
   ]
  },
  {
   "cell_type": "code",
   "execution_count": 19,
   "metadata": {},
   "outputs": [
    {
     "data": {
      "image/png": "[encoded data removed]",
      "text/plain": [
       "<Figure size 432x288 with 1 Axes>"
      ]
     },
     "metadata": {
      "needs_background": "light"
     },
     "output_type": "display_data"
    },
    {
     "name": "stdout",
     "output_type": "stream",
     "text": [
      "Figure(432x288)\n"
     ]
    }
   ],
   "source": [
    "print(ga_instance.plot_new_solution_rate())"
   ]
  },
  {
   "cell_type": "code",
   "execution_count": 72,
   "metadata": {},
   "outputs": [
    {
     "data": {
      "image/png": "[encoded data removed]",
      "text/plain": [
       "<Figure size 720x288 with 2 Axes>"
      ]
     },
     "metadata": {
      "needs_background": "light"
     },
     "output_type": "display_data"
    },
    {
     "name": "stdout",
     "output_type": "stream",
     "text": [
      "Figure(720x288)\n"
     ]
    }
   ],
   "source": [
    "print(ga_instance.plot_genes())"
   ]
  },
  {
   "cell_type": "markdown",
   "metadata": {},
   "source": [
    "# ga_instance.plot_genes()"
   ]
  },
  {
   "cell_type": "markdown",
   "metadata": {},
   "source": [
    "## Add more descriptors"
   ]
  },
  {
   "cell_type": "code",
   "execution_count": null,
   "metadata": {},
   "outputs": [],
   "source": [
    "# x_ar = np.array(df2[['aperture', 'diameter']])\n",
    "# x_ar = np.asanyarray(df2[['aperture', 'diameter', 'ionicRad', 'linker_length1', 'linker_length2',\n",
    "#        'linker_length3', 'linker_mass1', 'linker_mass2', 'linker_mass3',\n",
    "#        'func1_length', 'func2_length', 'func3_length', 'func1_mass',\n",
    "#        'func2_mass', 'func3_mass','e' ]])\n",
    "\n",
    "x_ar = np.asanyarray(df2[['aperture', 'diameter', 'linker_length1', 'linker_length2', 'linker_length3']])\n",
    "\n",
    "y_ar = np.array(df2[['logD']])"
   ]
  },
  {
   "cell_type": "code",
   "execution_count": null,
   "metadata": {},
   "outputs": [],
   "source": [
    "x_train, x_test, y_train, y_test = train_test_split(x_ar, y_ar, test_size=0.3, random_state=None)\n",
    "regression=regr.fit(x_train, y_train)"
   ]
  },
  {
   "cell_type": "code",
   "execution_count": null,
   "metadata": {},
   "outputs": [],
   "source": [
    "initialParameterValues = x_ar[0]\n",
    "print(initialParameterValues)\n",
    "# bounds = [(np.min(x_ar[:, 0]), np.max(x_ar[:, 0])), (np.min(x_ar[:, 1]), np.max(x_ar[:, 1]))]\n",
    "bounds = [(np.min(x_ar[:, 0]), np.max(x_ar[:, 0])), \n",
    "          (3.2, 3.25),\n",
    "         (np.min(x_ar[:, 2]), np.max(x_ar[:, 2])),\n",
    "         (np.min(x_ar[:, 2]), np.max(x_ar[:, 3])),\n",
    "         (np.min(x_ar[:, 2]), np.max(x_ar[:, 4]))]\n",
    "\n",
    "print(str(bounds))\n",
    "\n",
    "regression.predict([initialParameterValues])\n",
    "def fitness(PARAMS, *args):\n",
    "#     floatResult = regression.predict([PARAMS])[0][0]\n",
    "    floatResult = regression.predict([PARAMS])[0][0]\n",
    "    return abs(floatResult - -11.0)\n",
    "\n",
    "res = minimize(fitness, initialParameterValues, bounds=bounds, method='L-BFGS-B')\n",
    "print(str(res))"
   ]
  },
  {
   "cell_type": "code",
   "execution_count": null,
   "metadata": {},
   "outputs": [],
   "source": [
    "print(str(bounds))"
   ]
  },
  {
   "cell_type": "code",
   "execution_count": null,
   "metadata": {},
   "outputs": [],
   "source": [
    "x_ar[0]"
   ]
  },
  {
   "cell_type": "code",
   "execution_count": null,
   "metadata": {},
   "outputs": [],
   "source": [
    "# df2[['aperture', 'diameter', 'linker_length1', 'linker_mass2', 'linker_mass3']]"
   ]
  },
  {
   "cell_type": "markdown",
   "metadata": {},
   "source": [
    "## Decision Tree Regressor"
   ]
  },
  {
   "cell_type": "code",
   "execution_count": null,
   "metadata": {},
   "outputs": [],
   "source": [
    "x_ar = np.array(df2[['aperture', 'diameter']])\n",
    "# x_ar = np.asanyarray(df2[['aperture', 'diameter', 'ionicRad', 'linker_length1', 'linker_length2',\n",
    "#        'linker_length3', 'linker_mass1', 'linker_mass2', 'linker_mass3',\n",
    "#        'func1_length', 'func2_length', 'func3_length', 'func1_mass',\n",
    "#        'func2_mass', 'func3_mass','e' ]])\n",
    "\n",
    "# x_ar = np.asanyarray(df2[['aperture', 'diameter', 'linker_length1', 'linker_length2', 'linker_length3']])\n",
    "\n",
    "y_ar = np.array(df2[['logD']])"
   ]
  },
  {
   "cell_type": "code",
   "execution_count": null,
   "metadata": {},
   "outputs": [],
   "source": [
    "x_train, x_test, y_train, y_test = train_test_split(x_ar, y_ar, test_size=0.3, random_state=None)\n",
    "regression=tree.fit(x_train, y_train)"
   ]
  },
  {
   "cell_type": "code",
   "execution_count": null,
   "metadata": {},
   "outputs": [],
   "source": [
    "initialParameterValues = x_ar[0]\n",
    "print(initialParameterValues)\n",
    "# bounds = [(np.min(x_ar[:, 0]), np.max(x_ar[:, 0])), (np.min(x_ar[:, 1]), np.max(x_ar[:, 1]))]\n",
    "\n",
    "bounds = [(np.min(x_ar[:, 0]), np.max(x_ar[:, 0])), (3.2, 3.25 )]\n",
    "\n",
    "print(str(bounds))\n",
    "\n",
    "# regression.predict([initialParameterValues])\n",
    "def fitness(PARAMS, *args):\n",
    "    floatResult = regression.predict([PARAMS])[0]\n",
    "    print(floatResult)\n",
    "    return abs(floatResult - -12.0)\n",
    "\n",
    "res = minimize(fitness, initialParameterValues, bounds=bounds, method='L-BFGS-B', tol=1e-8, options={'eps':1e-10, \n",
    "                                                                                'maxiter': 100,\n",
    "                                                                                })\n",
    "\n",
    "# res = minimize(fitness, initialParameterValues, method='TNC', bounds=bounds)\n",
    "\n",
    "# res = minimize(fitness, initialParameterValues, bounds=bounds, method='L-BFGS-B', tol=1e-4)\n",
    "print(str(res))"
   ]
  },
  {
   "cell_type": "markdown",
   "metadata": {},
   "source": [
    "## Decision Tree - more descriptors"
   ]
  },
  {
   "cell_type": "code",
   "execution_count": null,
   "metadata": {},
   "outputs": [],
   "source": [
    "# x_ar = np.array(df2[['aperture', 'diameter']])\n",
    "# x_ar = np.asanyarray(df2[['aperture', 'diameter', 'ionicRad', 'linker_length1', 'linker_length2',\n",
    "#        'linker_length3', 'linker_mass1', 'linker_mass2', 'linker_mass3',\n",
    "#        'func1_length', 'func2_length', 'func3_length', 'func1_mass',\n",
    "#        'func2_mass', 'func3_mass','e' ]])\n",
    "\n",
    "x_ar = np.asanyarray(df2[['aperture', 'diameter', 'linker_length1', 'linker_length2', 'linker_length3']])\n",
    "\n",
    "y_ar = np.array(df2[['logD']])"
   ]
  },
  {
   "cell_type": "code",
   "execution_count": null,
   "metadata": {},
   "outputs": [],
   "source": [
    "x_train, x_test, y_train, y_test = train_test_split(x_ar, y_ar, test_size=0.3, random_state=None)\n",
    "regression=tree.fit(x_train, y_train)"
   ]
  },
  {
   "cell_type": "code",
   "execution_count": null,
   "metadata": {},
   "outputs": [],
   "source": [
    "initialParameterValues = x_ar[0]\n",
    "print(initialParameterValues)\n",
    "# bounds = [(np.min(x_ar[:, 0]), np.max(x_ar[:, 0])), (np.min(x_ar[:, 1]), np.max(x_ar[:, 1]))]\n",
    "bounds = [(np.min(x_ar[:, 0]), np.max(x_ar[:, 0])), \n",
    "          (3.2, 4.25),\n",
    "         (np.min(x_ar[:, 2]), np.max(x_ar[:, 2])),\n",
    "         (np.min(x_ar[:, 2]), np.max(x_ar[:, 3])),\n",
    "         (np.min(x_ar[:, 2]), np.max(x_ar[:, 4]))]\n",
    "\n",
    "print(str(bounds))\n",
    "\n",
    "regression.predict([initialParameterValues])\n",
    "def fitness(PARAMS, *args):\n",
    "#     floatResult = regression.predict([PARAMS])[0][0]\n",
    "    floatResult = tree.predict([PARAMS])[0]\n",
    "    return abs(floatResult - -16.0)\n",
    "\n",
    "res = minimize(fitness, initialParameterValues, bounds=bounds, method='L-BFGS-B', tol=1e-9, options={'eps':1e-12, \n",
    "                                                                                'maxiter': 15500,\n",
    "                                                                                })\n",
    "print(str(res))"
   ]
  },
  {
   "cell_type": "code",
   "execution_count": null,
   "metadata": {},
   "outputs": [],
   "source": []
  }
 ],
 "metadata": {
  "kernelspec": {
   "display_name": "Python 3",
   "language": "python",
   "name": "python3"
  },
  "language_info": {
   "codemirror_mode": {
    "name": "ipython",
    "version": 3
   },
   "file_extension": ".py",
   "mimetype": "text/x-python",
   "name": "python",
   "nbconvert_exporter": "python",
   "pygments_lexer": "ipython3",
   "version": "3.8.8"
  }
 },
 "nbformat": 4,
 "nbformat_minor": 4
}
