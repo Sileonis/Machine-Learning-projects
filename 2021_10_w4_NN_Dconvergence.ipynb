{
 "cells": [
  {
   "cell_type": "code",
   "execution_count": 1,
   "metadata": {},
   "outputs": [],
   "source": [
    "import pandas as pd\n",
    "import seaborn as sns\n",
    "import numpy as np\n",
    "%matplotlib inline\n",
    "import matplotlib.pyplot as plt\n",
    "#from matplotlib import pyplot\n",
    "from sklearn.linear_model import LinearRegression\n",
    "from sklearn import model_selection\n",
    "from sklearn.metrics import explained_variance_score\n",
    "from sklearn.metrics import mean_squared_error\n",
    "from tabulate import _table_formats, tabulate\n",
    "\n",
    "from sklearn.neural_network import MLPRegressor\n",
    "from sklearn import model_selection"
   ]
  },
  {
   "cell_type": "code",
   "execution_count": 2,
   "metadata": {},
   "outputs": [],
   "source": [
    "datas = '/Users/pkrok/OneDrive/Python/Giannakopoulos/MyData.xlsx'"
   ]
  },
  {
   "cell_type": "code",
   "execution_count": 3,
   "metadata": {},
   "outputs": [],
   "source": [
    "pd.set_option(\"display.max_columns\", None)\n",
    "df=pd.read_excel(datas)\n",
    "df.head(2)\n",
    "df['logD'] = np.log10(df['diffusivity'])\n",
    "#df = df.dropna()"
   ]
  },
  {
   "cell_type": "markdown",
   "metadata": {},
   "source": [
    "# Keep only the columns I need"
   ]
  },
  {
   "cell_type": "code",
   "execution_count": 4,
   "metadata": {},
   "outputs": [
    {
     "data": {
      "text/html": [
       "<div>\n",
       "<style scoped>\n",
       "    .dataframe tbody tr th:only-of-type {\n",
       "        vertical-align: middle;\n",
       "    }\n",
       "\n",
       "    .dataframe tbody tr th {\n",
       "        vertical-align: top;\n",
       "    }\n",
       "\n",
       "    .dataframe thead th {\n",
       "        text-align: right;\n",
       "    }\n",
       "</style>\n",
       "<table border=\"1\" class=\"dataframe\">\n",
       "  <thead>\n",
       "    <tr style=\"text-align: right;\">\n",
       "      <th></th>\n",
       "      <th>aperture</th>\n",
       "      <th>size - van der Waals (Å)</th>\n",
       "      <th>logD</th>\n",
       "    </tr>\n",
       "  </thead>\n",
       "  <tbody>\n",
       "    <tr>\n",
       "      <th>0</th>\n",
       "      <td>3.92</td>\n",
       "      <td>2.66</td>\n",
       "      <td>-7.221849</td>\n",
       "    </tr>\n",
       "    <tr>\n",
       "      <th>1</th>\n",
       "      <td>3.92</td>\n",
       "      <td>2.76</td>\n",
       "      <td>-7.301030</td>\n",
       "    </tr>\n",
       "    <tr>\n",
       "      <th>2</th>\n",
       "      <td>3.92</td>\n",
       "      <td>2.94</td>\n",
       "      <td>-8.000000</td>\n",
       "    </tr>\n",
       "    <tr>\n",
       "      <th>3</th>\n",
       "      <td>3.92</td>\n",
       "      <td>3.24</td>\n",
       "      <td>-8.397940</td>\n",
       "    </tr>\n",
       "    <tr>\n",
       "      <th>4</th>\n",
       "      <td>3.92</td>\n",
       "      <td>3.13</td>\n",
       "      <td>-8.301030</td>\n",
       "    </tr>\n",
       "    <tr>\n",
       "      <th>...</th>\n",
       "      <td>...</td>\n",
       "      <td>...</td>\n",
       "      <td>...</td>\n",
       "    </tr>\n",
       "    <tr>\n",
       "      <th>842</th>\n",
       "      <td>2.95</td>\n",
       "      <td>2.76</td>\n",
       "      <td>-7.455932</td>\n",
       "    </tr>\n",
       "    <tr>\n",
       "      <th>843</th>\n",
       "      <td>2.95</td>\n",
       "      <td>2.94</td>\n",
       "      <td>-9.180456</td>\n",
       "    </tr>\n",
       "    <tr>\n",
       "      <th>844</th>\n",
       "      <td>2.95</td>\n",
       "      <td>3.24</td>\n",
       "      <td>-9.096910</td>\n",
       "    </tr>\n",
       "    <tr>\n",
       "      <th>845</th>\n",
       "      <td>2.95</td>\n",
       "      <td>3.13</td>\n",
       "      <td>-9.638272</td>\n",
       "    </tr>\n",
       "    <tr>\n",
       "      <th>846</th>\n",
       "      <td>2.95</td>\n",
       "      <td>3.25</td>\n",
       "      <td>-11.522879</td>\n",
       "    </tr>\n",
       "  </tbody>\n",
       "</table>\n",
       "<p>596 rows × 3 columns</p>\n",
       "</div>"
      ],
      "text/plain": [
       "     aperture  size - van der Waals (Å)       logD\n",
       "0        3.92                      2.66  -7.221849\n",
       "1        3.92                      2.76  -7.301030\n",
       "2        3.92                      2.94  -8.000000\n",
       "3        3.92                      3.24  -8.397940\n",
       "4        3.92                      3.13  -8.301030\n",
       "..        ...                       ...        ...\n",
       "842      2.95                      2.76  -7.455932\n",
       "843      2.95                      2.94  -9.180456\n",
       "844      2.95                      3.24  -9.096910\n",
       "845      2.95                      3.13  -9.638272\n",
       "846      2.95                      3.25 -11.522879\n",
       "\n",
       "[596 rows x 3 columns]"
      ]
     },
     "execution_count": 4,
     "metadata": {},
     "output_type": "execute_result"
    }
   ],
   "source": [
    "df=df[[ 'aperture', 'size - van der Waals (Å)','logD']]\n",
    "df.head()\n",
    "df = df.dropna()\n",
    "df"
   ]
  },
  {
   "cell_type": "markdown",
   "metadata": {},
   "source": [
    "# Bring my data into shape"
   ]
  },
  {
   "cell_type": "code",
   "execution_count": 5,
   "metadata": {},
   "outputs": [],
   "source": [
    "df=df.rename(columns={'size - van der Waals (Å)':'diameter' })"
   ]
  },
  {
   "cell_type": "markdown",
   "metadata": {},
   "source": [
    "\n"
   ]
  },
  {
   "cell_type": "code",
   "execution_count": 6,
   "metadata": {},
   "outputs": [
    {
     "data": {
      "text/html": [
       "<div>\n",
       "<style scoped>\n",
       "    .dataframe tbody tr th:only-of-type {\n",
       "        vertical-align: middle;\n",
       "    }\n",
       "\n",
       "    .dataframe tbody tr th {\n",
       "        vertical-align: top;\n",
       "    }\n",
       "\n",
       "    .dataframe thead th {\n",
       "        text-align: right;\n",
       "    }\n",
       "</style>\n",
       "<table border=\"1\" class=\"dataframe\">\n",
       "  <thead>\n",
       "    <tr style=\"text-align: right;\">\n",
       "      <th></th>\n",
       "      <th>aperture</th>\n",
       "      <th>diameter</th>\n",
       "      <th>logD</th>\n",
       "    </tr>\n",
       "  </thead>\n",
       "  <tbody>\n",
       "    <tr>\n",
       "      <th>0</th>\n",
       "      <td>3.92</td>\n",
       "      <td>2.66</td>\n",
       "      <td>-7.221849</td>\n",
       "    </tr>\n",
       "    <tr>\n",
       "      <th>1</th>\n",
       "      <td>3.92</td>\n",
       "      <td>2.76</td>\n",
       "      <td>-7.301030</td>\n",
       "    </tr>\n",
       "    <tr>\n",
       "      <th>2</th>\n",
       "      <td>3.92</td>\n",
       "      <td>2.94</td>\n",
       "      <td>-8.000000</td>\n",
       "    </tr>\n",
       "    <tr>\n",
       "      <th>3</th>\n",
       "      <td>3.92</td>\n",
       "      <td>3.24</td>\n",
       "      <td>-8.397940</td>\n",
       "    </tr>\n",
       "    <tr>\n",
       "      <th>4</th>\n",
       "      <td>3.92</td>\n",
       "      <td>3.13</td>\n",
       "      <td>-8.301030</td>\n",
       "    </tr>\n",
       "  </tbody>\n",
       "</table>\n",
       "</div>"
      ],
      "text/plain": [
       "   aperture  diameter      logD\n",
       "0      3.92      2.66 -7.221849\n",
       "1      3.92      2.76 -7.301030\n",
       "2      3.92      2.94 -8.000000\n",
       "3      3.92      3.24 -8.397940\n",
       "4      3.92      3.13 -8.301030"
      ]
     },
     "execution_count": 6,
     "metadata": {},
     "output_type": "execute_result"
    }
   ],
   "source": [
    "df=df.reset_index(drop=True)\n",
    "df.head()"
   ]
  },
  {
   "cell_type": "markdown",
   "metadata": {},
   "source": [
    "## K-fold Cross-Validation"
   ]
  },
  {
   "cell_type": "code",
   "execution_count": 7,
   "metadata": {},
   "outputs": [],
   "source": [
    "from sklearn.model_selection import KFold"
   ]
  },
  {
   "cell_type": "markdown",
   "metadata": {},
   "source": [
    "## Linear Regressor with K-fold Cross-Validation"
   ]
  },
  {
   "cell_type": "code",
   "execution_count": 8,
   "metadata": {},
   "outputs": [],
   "source": [
    "from sklearn.tree import DecisionTreeRegressor\n",
    "tree=DecisionTreeRegressor(random_state=0)\n",
    "from sklearn import metrics"
   ]
  },
  {
   "cell_type": "code",
   "execution_count": 9,
   "metadata": {},
   "outputs": [],
   "source": [
    "dfMetrics = pd.DataFrame(columns = ['data', 'testPerf', 'trainPerf', 'testMSE', 'trainMSE', 'testMaxEr', 'trainMaxEr', 'testMedABSErr', 'trainMedABSErr'])\n",
    "\n",
    "NNregr = MLPRegressor(hidden_layer_sizes=(25, 20, 15, 10, 5), solver='adam', random_state=1, max_iter=2000)\n",
    "\n",
    "kfold = KFold(n_splits=40, shuffle=True, random_state = None)\n",
    "\n",
    "#make the test set\n",
    "testdf=df.iloc[346:, 0:]\n",
    "testx = np.asanyarray(testdf[['aperture', 'diameter']])\n",
    "testy = np.asanyarray(testdf[['logD']])   \n",
    "\n",
    "i=0\n",
    "\n",
    "for i in range(50, 545, 5):\n",
    "    data_y1 = list()\n",
    "    data_y2 = list()\n",
    "    data_predTrain = list()\n",
    "    data_predTest = list()\n",
    "    dataTrueTest = list()\n",
    "    \n",
    "    df2=df.iloc[:i, :]\n",
    "    x = np.asanyarray(df2[['aperture', 'diameter']])\n",
    "    y = np.asanyarray(df2[['logD']])\n",
    "\n",
    "    # enumerate splits\n",
    "    for train_ix, test_ix in kfold.split(x):\n",
    "        # get data\n",
    "        train_X, test_X = x[train_ix], x[test_ix]\n",
    "        train_y, test_y = y[train_ix], y[test_ix]\n",
    "        \n",
    "        # fit model\n",
    "        NNregr.fit(train_X, train_y.ravel())\n",
    "       \n",
    "        # make predictions\n",
    "        pred_train = NNregr.predict(train_X)\n",
    "        pred_test = NNregr.predict(testx)\n",
    "        \n",
    "        #store\n",
    "        data_y2.extend(train_y)\n",
    "        data_predTrain.extend(pred_train)\n",
    "        data_predTest.extend(pred_test)\n",
    "        dataTrueTest.extend(testy)\n",
    "        \n",
    "    # evaluate\n",
    "    R2_test = (metrics.r2_score(dataTrueTest,data_predTest))\n",
    "    R2_train = (metrics.r2_score(data_y2,data_predTrain))\n",
    "    MSE_test = (metrics.mean_squared_error(dataTrueTest,data_predTest))\n",
    "    MSE_train = (metrics.mean_squared_error(data_y2,data_predTrain))\n",
    "    MaxEr_test = metrics.max_error(dataTrueTest,data_predTest)\n",
    "    MaxEr_train = metrics.max_error(data_y2,data_predTrain)\n",
    "    MedABSErr_test = metrics.median_absolute_error(dataTrueTest,data_predTest)\n",
    "    MedABSErr_train = metrics.median_absolute_error(data_y2,data_predTrain)\n",
    "    \n",
    "    dfMetrics.loc[i, 'testPerf'] = R2_test\n",
    "    dfMetrics.loc[i, 'trainPerf'] = R2_train\n",
    "    dfMetrics.loc[i, 'testMSE'] = MSE_test\n",
    "    dfMetrics.loc[i, 'trainMSE'] = MSE_train\n",
    "    dfMetrics.loc[i, 'testMaxEr'] = MaxEr_test\n",
    "    dfMetrics.loc[i, 'trainMaxEr'] = MaxEr_train\n",
    "    dfMetrics.loc[i, 'testMedABSErr'] = MedABSErr_test\n",
    "    dfMetrics.loc[i, 'trainMedABSErr'] = MedABSErr_train\n",
    "    dfMetrics.loc[i, 'data'] = i"
   ]
  },
  {
   "cell_type": "code",
   "execution_count": 10,
   "metadata": {},
   "outputs": [
    {
     "data": {
      "text/plain": [
       "10000"
      ]
     },
     "execution_count": 10,
     "metadata": {},
     "output_type": "execute_result"
    }
   ],
   "source": [
    "len(dataTrueTest)"
   ]
  },
  {
   "cell_type": "code",
   "execution_count": 11,
   "metadata": {},
   "outputs": [
    {
     "data": {
      "text/plain": [
       "10000"
      ]
     },
     "execution_count": 11,
     "metadata": {},
     "output_type": "execute_result"
    }
   ],
   "source": [
    "len(data_predTest)"
   ]
  },
  {
   "cell_type": "code",
   "execution_count": 12,
   "metadata": {},
   "outputs": [],
   "source": [
    "# dfMetrics.tail(20)\n",
    "# data_y2"
   ]
  },
  {
   "cell_type": "code",
   "execution_count": 15,
   "metadata": {},
   "outputs": [
    {
     "data": {
      "text/plain": [
       "<function matplotlib.pyplot.show(close=None, block=None)>"
      ]
     },
     "execution_count": 15,
     "metadata": {},
     "output_type": "execute_result"
    },
    {
     "data": {
      "image/png": "[encoded data removed]",
      "text/plain": [
       "<Figure size 648x648 with 1 Axes>"
      ]
     },
     "metadata": {
      "needs_background": "light"
     },
     "output_type": "display_data"
    }
   ],
   "source": [
    "AxX=dfMetrics['data']\n",
    "AxY=dfMetrics['testPerf']\n",
    "AxY2=dfMetrics['trainPerf']\n",
    "plt.plot(AxX, AxY, 'ro', label='test')\n",
    "plt.plot(AxX, AxY2, 'o', label='train')\n",
    "\n",
    "plt.ylim(0.2, 1)\n",
    "plt.xlim(300, 700)\n",
    "#plt.xscale('log')\n",
    "plt.xlabel('size of dataset', fontsize=22)\n",
    "plt.ylabel('R2',fontsize=22)\n",
    "plt.tick_params(which='both', width=3)\n",
    "plt.tick_params(which='major', length=10)\n",
    "plt.tick_params(which='minor', length=4, color='r')\n",
    "plt.rcParams[\"figure.figsize\"] = (9,9)\n",
    "plt.yticks(fontsize=22)\n",
    "plt.xticks(fontsize=22)\n",
    "plt.legend(loc='lower right', fontsize=20)\n",
    "\n",
    "plt.show"
   ]
  },
  {
   "cell_type": "code",
   "execution_count": 16,
   "metadata": {},
   "outputs": [
    {
     "data": {
      "text/plain": [
       "<function matplotlib.pyplot.show(close=None, block=None)>"
      ]
     },
     "execution_count": 16,
     "metadata": {},
     "output_type": "execute_result"
    },
    {
     "data": {
      "image/png": "[encoded data removed]",
      "text/plain": [
       "<Figure size 648x648 with 1 Axes>"
      ]
     },
     "metadata": {
      "needs_background": "light"
     },
     "output_type": "display_data"
    }
   ],
   "source": [
    "AxX=dfMetrics['data']\n",
    "AxY=dfMetrics['testMSE']\n",
    "AxY2=dfMetrics['trainMSE']\n",
    "plt.plot(AxX, AxY, 'ro', label='test')\n",
    "plt.plot(AxX, AxY2, 'o', label='train')\n",
    "\n",
    "#plt.ylim(0, 0.5)\n",
    "#plt.xlim(0, 600)\n",
    "#plt.xscale('log')\n",
    "plt.xlabel('size of dataset', fontsize=22)\n",
    "plt.ylabel('MSE',fontsize=22)\n",
    "plt.tick_params(which='both', width=3)\n",
    "plt.tick_params(which='major', length=10)\n",
    "plt.tick_params(which='minor', length=4, color='r')\n",
    "plt.rcParams[\"figure.figsize\"] = (9,9)\n",
    "plt.yticks(fontsize=22)\n",
    "plt.xticks(fontsize=22)\n",
    "plt.legend(loc='upper right', fontsize=20)\n",
    "\n",
    "plt.show"
   ]
  },
  {
   "cell_type": "markdown",
   "metadata": {},
   "source": [
    "# Without K-fold"
   ]
  },
  {
   "cell_type": "code",
   "execution_count": 17,
   "metadata": {},
   "outputs": [],
   "source": [
    "dfMetrics = pd.DataFrame(columns = ['data', 'testPerf', 'trainPerf', 'testMSE', 'trainMSE', 'testMaxEr', 'trainMaxEr', 'testMedABSErr', 'trainMedABSErr'])\n",
    "\n",
    "NNregr = MLPRegressor(hidden_layer_sizes=(35, 30, 15, 10, 5), solver='lbfgs', random_state=1, max_iter=3000)\n",
    "\n",
    "#make the test set\n",
    "testdf=df.iloc[346:, 0:]\n",
    "testx = np.asanyarray(testdf[['aperture', 'diameter']])\n",
    "testy = np.asanyarray(testdf[['logD']])   \n",
    "\n",
    "i=0\n",
    "\n",
    "for i in range(150, 345, 5):\n",
    "    data_y1 = list()\n",
    "    data_y2 = list()\n",
    "    data_predTrain = list()\n",
    "    data_predTest = list()\n",
    "    dataTrueTest = list()\n",
    "    \n",
    "    df2=df.iloc[:i, :]\n",
    "    x = np.asanyarray(df2[['aperture', 'diameter']])\n",
    "    y = np.asanyarray(df2[['logD']])\n",
    "    \n",
    "    NNregr.fit(x,y.ravel())\n",
    "    pred_train = NNregr.predict(x)\n",
    "    pred_test = NNregr.predict(testx)\n",
    "        \n",
    "    # evaluate\n",
    "    R2_test = (metrics.r2_score(testy,pred_test))\n",
    "    R2_train = (metrics.r2_score(y,pred_train))\n",
    "    MSE_test = (metrics.mean_squared_error(testy,pred_test))\n",
    "    MSE_train = (metrics.mean_squared_error(y,pred_train))\n",
    "    MaxEr_test = metrics.max_error(testy,pred_test)\n",
    "    MaxEr_train = metrics.max_error(y,pred_train)\n",
    "    MedABSErr_test = metrics.median_absolute_error(testy,pred_test)\n",
    "    MedABSErr_train = metrics.median_absolute_error(y,pred_train)\n",
    "    \n",
    "    dfMetrics.loc[i, 'testPerf'] = R2_test\n",
    "    dfMetrics.loc[i, 'trainPerf'] = R2_train\n",
    "    dfMetrics.loc[i, 'testMSE'] = MSE_test\n",
    "    dfMetrics.loc[i, 'trainMSE'] = MSE_train\n",
    "    dfMetrics.loc[i, 'testMaxEr'] = MaxEr_test\n",
    "    dfMetrics.loc[i, 'trainMaxEr'] = MaxEr_train\n",
    "    dfMetrics.loc[i, 'testMedABSErr'] = MedABSErr_test\n",
    "    dfMetrics.loc[i, 'trainMedABSErr'] = MedABSErr_train\n",
    "    dfMetrics.loc[i, 'data'] = i"
   ]
  },
  {
   "cell_type": "code",
   "execution_count": 18,
   "metadata": {},
   "outputs": [
    {
     "data": {
      "text/plain": [
       "250"
      ]
     },
     "execution_count": 18,
     "metadata": {},
     "output_type": "execute_result"
    }
   ],
   "source": [
    "len(testy)"
   ]
  },
  {
   "cell_type": "code",
   "execution_count": 19,
   "metadata": {},
   "outputs": [
    {
     "data": {
      "text/plain": [
       "250"
      ]
     },
     "execution_count": 19,
     "metadata": {},
     "output_type": "execute_result"
    }
   ],
   "source": [
    "len(pred_test)"
   ]
  },
  {
   "cell_type": "code",
   "execution_count": 20,
   "metadata": {},
   "outputs": [
    {
     "data": {
      "text/plain": [
       "<function matplotlib.pyplot.show(close=None, block=None)>"
      ]
     },
     "execution_count": 20,
     "metadata": {},
     "output_type": "execute_result"
    },
    {
     "data": {
      "image/png": "[encoded data removed]",
      "text/plain": [
       "<Figure size 648x648 with 1 Axes>"
      ]
     },
     "metadata": {
      "needs_background": "light"
     },
     "output_type": "display_data"
    }
   ],
   "source": [
    "AxX=dfMetrics['data']\n",
    "AxY=dfMetrics['testPerf']\n",
    "AxY2=dfMetrics['trainPerf']\n",
    "plt.plot(AxX, AxY, 'ro', label='test')\n",
    "plt.plot(AxX, AxY2, 'o', label='train')\n",
    "\n",
    "# plt.ylim(0.2, 1)\n",
    "# plt.xlim(100, 700)\n",
    "#plt.xscale('log')\n",
    "plt.xlabel('size of dataset', fontsize=22)\n",
    "plt.ylabel('R2',fontsize=22)\n",
    "plt.tick_params(which='both', width=3)\n",
    "plt.tick_params(which='major', length=10)\n",
    "plt.tick_params(which='minor', length=4, color='r')\n",
    "plt.rcParams[\"figure.figsize\"] = (9,9)\n",
    "plt.yticks(fontsize=22)\n",
    "plt.xticks(fontsize=22)\n",
    "plt.legend(loc='lower right', fontsize=20)\n",
    "\n",
    "plt.show"
   ]
  },
  {
   "cell_type": "code",
   "execution_count": 21,
   "metadata": {},
   "outputs": [
    {
     "data": {
      "text/plain": [
       "<function matplotlib.pyplot.show(close=None, block=None)>"
      ]
     },
     "execution_count": 21,
     "metadata": {},
     "output_type": "execute_result"
    },
    {
     "data": {
      "image/png": "[encoded data removed]",
      "text/plain": [
       "<Figure size 648x648 with 1 Axes>"
      ]
     },
     "metadata": {
      "needs_background": "light"
     },
     "output_type": "display_data"
    }
   ],
   "source": [
    "AxX=dfMetrics['data']\n",
    "AxY=dfMetrics['testMSE']\n",
    "AxY2=dfMetrics['trainMSE']\n",
    "plt.plot(AxX, AxY, 'ro', label='test')\n",
    "plt.plot(AxX, AxY2, 'o', label='train')\n",
    "\n",
    "# plt.ylim(0, 11)\n",
    "# plt.xlim(250, 600)\n",
    "#plt.xscale('log')\n",
    "plt.xlabel('size of dataset', fontsize=22)\n",
    "plt.ylabel('MSE',fontsize=22)\n",
    "plt.tick_params(which='both', width=3)\n",
    "plt.tick_params(which='major', length=10)\n",
    "plt.tick_params(which='minor', length=4, color='r')\n",
    "plt.rcParams[\"figure.figsize\"] = (9,9)\n",
    "plt.yticks(fontsize=22)\n",
    "plt.xticks(fontsize=22)\n",
    "plt.legend(loc='upper right', fontsize=20)\n",
    "\n",
    "plt.show"
   ]
  },
  {
   "cell_type": "code",
   "execution_count": null,
   "metadata": {},
   "outputs": [],
   "source": []
  },
  {
   "cell_type": "code",
   "execution_count": null,
   "metadata": {},
   "outputs": [],
   "source": []
  },
  {
   "cell_type": "code",
   "execution_count": null,
   "metadata": {},
   "outputs": [],
   "source": []
  }
 ],
 "metadata": {
  "kernelspec": {
   "display_name": "Python 3 (ipykernel)",
   "language": "python",
   "name": "python3"
  },
  "language_info": {
   "codemirror_mode": {
    "name": "ipython",
    "version": 3
   },
   "file_extension": ".py",
   "mimetype": "text/x-python",
   "name": "python",
   "nbconvert_exporter": "python",
   "pygments_lexer": "ipython3",
   "version": "3.8.12"
  }
 },
 "nbformat": 4,
 "nbformat_minor": 4
}
